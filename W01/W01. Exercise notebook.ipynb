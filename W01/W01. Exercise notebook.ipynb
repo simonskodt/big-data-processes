{
 "cells": [
  {
   "cell_type": "markdown",
   "metadata": {},
   "source": [
    "# Big Data Processes exercise - week 1\n",
    "\n",
    "## <font color = green>Recap</font>\n",
    "\n",
    "- There are two types of cells: markdown cells and code cells\n",
    "- To add a markdown cell, click on \"+ Markdown\" above\n",
    "- To add a code cell, click on \"+ Code\" above\n",
    "- Writing notes in the notebook can be super helpful. You can write notes in Markdown cells or alternatively, in the code cells. If you want to write a note in a code cell, remember to start the sentence with #. This signals that everything after the '#' is a comment and this line will then not be executed when running the cell. \n",
    "\n",
    "Good shortcuts to keep in mind:\n",
    "<ul>\n",
    "    <li><i> Shift+Enter </i>: Execute a cell and advance to the next one</li>\n",
    "    <li><i> Ctrl+Enter (Windows) or Cmd+Enter (Mac) </i>: Execute a cell and remain on it</li>\n",
    "\n",
    "</ul>"
   ]
  },
  {
   "cell_type": "markdown",
   "metadata": {},
   "source": [
    "#### **<font color = Orange>1. Importing an external library - Pandas</font>**"
   ]
  },
  {
   "cell_type": "markdown",
   "metadata": {},
   "source": [
    "The first thing we need to do is to import a so-called 'library'. \n",
    "In Python, a library refers to a collection of pre-written code or modules that we can use to perform specific tasks, like manipulating a dataset. \n",
    "It adds extra functionalities and tools to the Python version we just downloaded.\n",
    "If you are curious about libraries for Python, you can check this link out: https://www.edureka.co/blog/python-libraries/. It might not make sense now, but it can be useful later on. \n",
    "\n",
    "The library we want to import in this notebook is called Pandas. It contains functions that are useful when working with datasets and data analysis.\n",
    "Data scientists often use 'pd' as a deliberate alias for Pandas. It allows shorter references later on. We will use this alias as well (see the code cell below) \n",
    "\n",
    "To learn more about the Pandas library, follow this link: https://pandas.pydata.org/\n",
    "\n",
    "For a beginner-friendly tutorial on Pandas, click here: https://www.w3schools.com/python/pandas/default.asp\n",
    "\n",
    "Okay, now try running the code cell below to import the Pandas library. Do it now, before reading any further..."
   ]
  },
  {
   "cell_type": "code",
   "execution_count": 1,
   "metadata": {},
   "outputs": [],
   "source": [
    "import pandas as pd"
   ]
  },
  {
   "cell_type": "markdown",
   "metadata": {},
   "source": [
    "You probably got a **<font color = red>\"ModuleNotFoundError\"</font>**\n",
    "\n",
    "This is because you have not installed the library yet! Before we show you how to install a new library such that you can then import it, we'll just gothrough the difference between installing and importing a library:\n",
    "\n",
    "- **Installing:** This is a one-time setup process where you download and install a library and its dependencies on your system. It's typically done using a package manager like pip.\n",
    "- **Importing:** This is the process of making a library available for use in your Python code. Once installed, you import the library using the import statement to access its features.\n",
    "\n",
    "In practice, the typical workflow involves installing a library once and importing it whenever you need to use it in your code. The installation step ensures that the library is present on your system, while the import step allows you to access and utilize the library's functionalities in your Python scripts or programs.\n",
    "\n",
    "REMEMBER, whenever you want to use a library that you have not used before, you will need to install it first.\n",
    "\n",
    "Okay, let's install Pandas, so you can import it. To do this:\n",
    "- Open a terminal (go to View > Terminal in the dropdown menu)\n",
    "- type: pip install pandas\n",
    "- Hit enter\n",
    "- Wait for the library to be downloaded\n",
    "\n",
    "After this, try running the code cell above again - now, it should work. You now (hopefully) successfully installed and imported the library Pandas!\n",
    "If you continue to have issues, let the TAs know. This can be related to connecting your file to your Python environment, where the download/install is occurring."
   ]
  },
  {
   "cell_type": "markdown",
   "metadata": {},
   "source": [
    "#### **<font color = Orange>2. Importing the dataset</font>**\n",
    "\n",
    "Let's try to use Pandas for importing a dataset!\n",
    "The first dataset we will open is the one called 'Data.txt' which is placed in the same folder as this notebook.\n",
    "Before moving to the code below, open the text.file 'Data.txt' by double clicking on it. \n",
    "As you can see, it looks a bit like a table with the columns: Country, Age, Salary, Purchased...\n",
    "\n",
    "Okay, now let's try to \"transfer\" the data in the txt-file into a variable in our notebook using Pandas. You do this by running the code cell below."
   ]
  },
  {
   "cell_type": "code",
   "execution_count": 2,
   "metadata": {},
   "outputs": [],
   "source": [
    "dataset_csv = pd.read_csv('Data.txt', delimiter = '\\t')"
   ]
  },
  {
   "cell_type": "markdown",
   "metadata": {},
   "source": [
    "Explanation of the code above:\n",
    "- \"dataset_csv\" is the variable name we have chosen for our dataset (in Pandas-lingo what is stored in our variable is actually called a \"dataframe\"). As \"dataset_csv\" is a variable we create, we decide what the name should be. Some find it helpful to name their datasets after the content of the file, e.g, \"health\", others just name their dataframes df, and that is perfectly okay too. You just need to remember that you will be writing the name of the dataframe often and names like: the_health_data_of_several_different_countries might not be the most effective name. As you progress you might work with several different dataframes in your Jupyter Notebook, so keeping a list of what the different dataframes contain might be helpful \n",
    "- \"pd\" is the alias we used for the library Pandas. In other words, we are telling Python that we want to use Pandas to read the file (= \"pd.read_csv\")\n",
    "- \"Data.txt\" is the name of the file we want to open. To be able to open it like this, the Jupyter Notebook and the file needs to be saved in the same folder\n",
    "- \"delimiter\" is a so-called 'parameter' which we use to tell Python how the values are separated in the file. As you might remember when examining the txt-file, the \"columns\" in the Data.txt is seperatedby tabs (spaces) and therefore, we choose the delimiter '\\t' (which stands for tab)"
   ]
  },
  {
   "cell_type": "markdown",
   "metadata": {},
   "source": [
    "If you get a <font color = red><b>\"FileNotFoundError\"</b></font>, it is because the notebook cannot find the file you are trying to load. The issue is often that the file is not in the same folder as the Jupyter Notebook file. There are two solutions to this: \n",
    "\n",
    "1) Move the txt-file into the correct folder (= the same folder as the notebook)\n",
    "OR \n",
    "2) Add the whole path of the file. This can usually be extracted by right-clicking the file itself, and hitting \"copy path\". When adding to your notebook, you need to add an \"r\" before the file path. This is to tell the notebook that the following is just a name and that it should ignore the backspaces and not read them as code. The line will now look like this:  \n",
    "\n",
    "<i>dataset_tsv = pd.read_csv(r'C:\\Users\\emili\\Downloads\\Data.txt', delimiter = '\\t')</i>"
   ]
  },
  {
   "cell_type": "markdown",
   "metadata": {},
   "source": [
    "Right now, we are working with a txt-file contaning some data. However, there are many other types of files that can contain data. If we want to open another type of file, we need to use another method than pd.read_csv. For instance, data can also be stored in an excel-file. In that case, we have to use the method below:\n",
    "\n",
    "dataset_excel = pd.read_excel('Data.xlsx', index_cols = 0, header = 0)\n",
    "\n",
    "You can find more information about how to read different file types below - or by asking googe or Chat-GPT ;)\n",
    "\n",
    "https://pandas.pydata.org/pandas-docs/stable/reference/api/pandas.read_csv.html\n",
    "\n",
    "https://pandas.pydata.org/pandas-docs/stable/reference/api/pandas.read_json.html\n",
    "\n",
    "https://pandas.pydata.org/pandas-docs/stable/reference/api/pandas.read_excel.html"
   ]
  },
  {
   "cell_type": "markdown",
   "metadata": {},
   "source": [
    "#### **<font color = Orange>3. Opening the dataset and examining it</font>**\n",
    "\n",
    "Okay - so we just \"transferred\" the data from the Data.txt-file into a variable called \"dataset_csv\".\n",
    "To take a look at what our new variable contains, we simple write its name in a code cell and run it. Try it out below:"
   ]
  },
  {
   "cell_type": "code",
   "execution_count": 3,
   "metadata": {},
   "outputs": [
    {
     "data": {
      "text/html": [
       "<div>\n",
       "<style scoped>\n",
       "    .dataframe tbody tr th:only-of-type {\n",
       "        vertical-align: middle;\n",
       "    }\n",
       "\n",
       "    .dataframe tbody tr th {\n",
       "        vertical-align: top;\n",
       "    }\n",
       "\n",
       "    .dataframe thead th {\n",
       "        text-align: right;\n",
       "    }\n",
       "</style>\n",
       "<table border=\"1\" class=\"dataframe\">\n",
       "  <thead>\n",
       "    <tr style=\"text-align: right;\">\n",
       "      <th></th>\n",
       "      <th>Country</th>\n",
       "      <th>Age</th>\n",
       "      <th>Salary</th>\n",
       "      <th>Purchased</th>\n",
       "    </tr>\n",
       "  </thead>\n",
       "  <tbody>\n",
       "    <tr>\n",
       "      <th>0</th>\n",
       "      <td>France</td>\n",
       "      <td>44.0</td>\n",
       "      <td>72000.0</td>\n",
       "      <td>No</td>\n",
       "    </tr>\n",
       "    <tr>\n",
       "      <th>1</th>\n",
       "      <td>Spain</td>\n",
       "      <td>27.0</td>\n",
       "      <td>48000.0</td>\n",
       "      <td>Yes</td>\n",
       "    </tr>\n",
       "    <tr>\n",
       "      <th>2</th>\n",
       "      <td>Germany</td>\n",
       "      <td>30.0</td>\n",
       "      <td>54000.0</td>\n",
       "      <td>No</td>\n",
       "    </tr>\n",
       "    <tr>\n",
       "      <th>3</th>\n",
       "      <td>Spain</td>\n",
       "      <td>38.0</td>\n",
       "      <td>61000.0</td>\n",
       "      <td>No</td>\n",
       "    </tr>\n",
       "    <tr>\n",
       "      <th>4</th>\n",
       "      <td>Germany</td>\n",
       "      <td>40.0</td>\n",
       "      <td>NaN</td>\n",
       "      <td>Yes</td>\n",
       "    </tr>\n",
       "    <tr>\n",
       "      <th>...</th>\n",
       "      <td>...</td>\n",
       "      <td>...</td>\n",
       "      <td>...</td>\n",
       "      <td>...</td>\n",
       "    </tr>\n",
       "    <tr>\n",
       "      <th>65</th>\n",
       "      <td>Pakistan</td>\n",
       "      <td>37.0</td>\n",
       "      <td>25000.0</td>\n",
       "      <td>Yes</td>\n",
       "    </tr>\n",
       "    <tr>\n",
       "      <th>66</th>\n",
       "      <td>Israel</td>\n",
       "      <td>70.0</td>\n",
       "      <td>80000.0</td>\n",
       "      <td>No</td>\n",
       "    </tr>\n",
       "    <tr>\n",
       "      <th>67</th>\n",
       "      <td>Tunisia</td>\n",
       "      <td>42.0</td>\n",
       "      <td>36000.0</td>\n",
       "      <td>No</td>\n",
       "    </tr>\n",
       "    <tr>\n",
       "      <th>68</th>\n",
       "      <td>Algeria</td>\n",
       "      <td>20.0</td>\n",
       "      <td>18000.0</td>\n",
       "      <td>No</td>\n",
       "    </tr>\n",
       "    <tr>\n",
       "      <th>69</th>\n",
       "      <td>Morocco</td>\n",
       "      <td>60.0</td>\n",
       "      <td>56000.0</td>\n",
       "      <td>Yes</td>\n",
       "    </tr>\n",
       "  </tbody>\n",
       "</table>\n",
       "<p>70 rows × 4 columns</p>\n",
       "</div>"
      ],
      "text/plain": [
       "     Country   Age   Salary Purchased\n",
       "0     France  44.0  72000.0        No\n",
       "1      Spain  27.0  48000.0       Yes\n",
       "2    Germany  30.0  54000.0        No\n",
       "3      Spain  38.0  61000.0        No\n",
       "4    Germany  40.0      NaN       Yes\n",
       "..       ...   ...      ...       ...\n",
       "65  Pakistan  37.0  25000.0       Yes\n",
       "66    Israel  70.0  80000.0        No\n",
       "67   Tunisia  42.0  36000.0        No\n",
       "68   Algeria  20.0  18000.0        No\n",
       "69   Morocco  60.0  56000.0       Yes\n",
       "\n",
       "[70 rows x 4 columns]"
      ]
     },
     "execution_count": 3,
     "metadata": {},
     "output_type": "execute_result"
    }
   ],
   "source": [
    "dataset_csv\n",
    "\n",
    "#Here we are checking what have is stored in the variable and, as expected, it is the data from the txt-file"
   ]
  },
  {
   "cell_type": "markdown",
   "metadata": {},
   "source": [
    "#### **<font color = Orange>4. Redefining a variable name</font>**\n",
    "If we want to shorten the name of the variable, we just assign it to a new variable:"
   ]
  },
  {
   "cell_type": "code",
   "execution_count": 4,
   "metadata": {},
   "outputs": [],
   "source": [
    "ds = dataset_csv"
   ]
  },
  {
   "cell_type": "markdown",
   "metadata": {},
   "source": [
    "#### **<font color = Orange>5. Using a method</font>**\n",
    "\n",
    "Below, we present a few methods you can use to display the dataset in different ways.\n",
    "\n",
    "Using the .head() method on our new variable will give us the first five rows of our dataframe.\n"
   ]
  },
  {
   "cell_type": "code",
   "execution_count": 8,
   "metadata": {},
   "outputs": [
    {
     "data": {
      "text/html": [
       "<div>\n",
       "<style scoped>\n",
       "    .dataframe tbody tr th:only-of-type {\n",
       "        vertical-align: middle;\n",
       "    }\n",
       "\n",
       "    .dataframe tbody tr th {\n",
       "        vertical-align: top;\n",
       "    }\n",
       "\n",
       "    .dataframe thead th {\n",
       "        text-align: right;\n",
       "    }\n",
       "</style>\n",
       "<table border=\"1\" class=\"dataframe\">\n",
       "  <thead>\n",
       "    <tr style=\"text-align: right;\">\n",
       "      <th></th>\n",
       "      <th>Country</th>\n",
       "      <th>Age</th>\n",
       "      <th>Salary</th>\n",
       "      <th>Purchased</th>\n",
       "    </tr>\n",
       "  </thead>\n",
       "  <tbody>\n",
       "    <tr>\n",
       "      <th>0</th>\n",
       "      <td>France</td>\n",
       "      <td>44.0</td>\n",
       "      <td>72000.0</td>\n",
       "      <td>No</td>\n",
       "    </tr>\n",
       "    <tr>\n",
       "      <th>1</th>\n",
       "      <td>Spain</td>\n",
       "      <td>27.0</td>\n",
       "      <td>48000.0</td>\n",
       "      <td>Yes</td>\n",
       "    </tr>\n",
       "    <tr>\n",
       "      <th>2</th>\n",
       "      <td>Germany</td>\n",
       "      <td>30.0</td>\n",
       "      <td>54000.0</td>\n",
       "      <td>No</td>\n",
       "    </tr>\n",
       "    <tr>\n",
       "      <th>3</th>\n",
       "      <td>Spain</td>\n",
       "      <td>38.0</td>\n",
       "      <td>61000.0</td>\n",
       "      <td>No</td>\n",
       "    </tr>\n",
       "    <tr>\n",
       "      <th>4</th>\n",
       "      <td>Germany</td>\n",
       "      <td>40.0</td>\n",
       "      <td>NaN</td>\n",
       "      <td>Yes</td>\n",
       "    </tr>\n",
       "  </tbody>\n",
       "</table>\n",
       "</div>"
      ],
      "text/plain": [
       "   Country   Age   Salary Purchased\n",
       "0   France  44.0  72000.0        No\n",
       "1    Spain  27.0  48000.0       Yes\n",
       "2  Germany  30.0  54000.0        No\n",
       "3    Spain  38.0  61000.0        No\n",
       "4  Germany  40.0      NaN       Yes"
      ]
     },
     "execution_count": 8,
     "metadata": {},
     "output_type": "execute_result"
    }
   ],
   "source": [
    "ds.head()"
   ]
  },
  {
   "cell_type": "markdown",
   "metadata": {},
   "source": [
    "If you want to display a specific number of rows from the top, you use the .head() method with a number in the brackets:\n"
   ]
  },
  {
   "cell_type": "code",
   "execution_count": 9,
   "metadata": {},
   "outputs": [
    {
     "data": {
      "text/html": [
       "<div>\n",
       "<style scoped>\n",
       "    .dataframe tbody tr th:only-of-type {\n",
       "        vertical-align: middle;\n",
       "    }\n",
       "\n",
       "    .dataframe tbody tr th {\n",
       "        vertical-align: top;\n",
       "    }\n",
       "\n",
       "    .dataframe thead th {\n",
       "        text-align: right;\n",
       "    }\n",
       "</style>\n",
       "<table border=\"1\" class=\"dataframe\">\n",
       "  <thead>\n",
       "    <tr style=\"text-align: right;\">\n",
       "      <th></th>\n",
       "      <th>Country</th>\n",
       "      <th>Age</th>\n",
       "      <th>Salary</th>\n",
       "      <th>Purchased</th>\n",
       "    </tr>\n",
       "  </thead>\n",
       "  <tbody>\n",
       "    <tr>\n",
       "      <th>0</th>\n",
       "      <td>France</td>\n",
       "      <td>44.0</td>\n",
       "      <td>72000.0</td>\n",
       "      <td>No</td>\n",
       "    </tr>\n",
       "    <tr>\n",
       "      <th>1</th>\n",
       "      <td>Spain</td>\n",
       "      <td>27.0</td>\n",
       "      <td>48000.0</td>\n",
       "      <td>Yes</td>\n",
       "    </tr>\n",
       "    <tr>\n",
       "      <th>2</th>\n",
       "      <td>Germany</td>\n",
       "      <td>30.0</td>\n",
       "      <td>54000.0</td>\n",
       "      <td>No</td>\n",
       "    </tr>\n",
       "    <tr>\n",
       "      <th>3</th>\n",
       "      <td>Spain</td>\n",
       "      <td>38.0</td>\n",
       "      <td>61000.0</td>\n",
       "      <td>No</td>\n",
       "    </tr>\n",
       "    <tr>\n",
       "      <th>4</th>\n",
       "      <td>Germany</td>\n",
       "      <td>40.0</td>\n",
       "      <td>NaN</td>\n",
       "      <td>Yes</td>\n",
       "    </tr>\n",
       "    <tr>\n",
       "      <th>5</th>\n",
       "      <td>France</td>\n",
       "      <td>35.0</td>\n",
       "      <td>58000.0</td>\n",
       "      <td>Yes</td>\n",
       "    </tr>\n",
       "    <tr>\n",
       "      <th>6</th>\n",
       "      <td>Spain</td>\n",
       "      <td>NaN</td>\n",
       "      <td>52000.0</td>\n",
       "      <td>No</td>\n",
       "    </tr>\n",
       "    <tr>\n",
       "      <th>7</th>\n",
       "      <td>France</td>\n",
       "      <td>48.0</td>\n",
       "      <td>79000.0</td>\n",
       "      <td>Yes</td>\n",
       "    </tr>\n",
       "    <tr>\n",
       "      <th>8</th>\n",
       "      <td>Germany</td>\n",
       "      <td>50.0</td>\n",
       "      <td>83000.0</td>\n",
       "      <td>No</td>\n",
       "    </tr>\n",
       "    <tr>\n",
       "      <th>9</th>\n",
       "      <td>France</td>\n",
       "      <td>37.0</td>\n",
       "      <td>67000.0</td>\n",
       "      <td>Yes</td>\n",
       "    </tr>\n",
       "  </tbody>\n",
       "</table>\n",
       "</div>"
      ],
      "text/plain": [
       "   Country   Age   Salary Purchased\n",
       "0   France  44.0  72000.0        No\n",
       "1    Spain  27.0  48000.0       Yes\n",
       "2  Germany  30.0  54000.0        No\n",
       "3    Spain  38.0  61000.0        No\n",
       "4  Germany  40.0      NaN       Yes\n",
       "5   France  35.0  58000.0       Yes\n",
       "6    Spain   NaN  52000.0        No\n",
       "7   France  48.0  79000.0       Yes\n",
       "8  Germany  50.0  83000.0        No\n",
       "9   France  37.0  67000.0       Yes"
      ]
     },
     "execution_count": 9,
     "metadata": {},
     "output_type": "execute_result"
    }
   ],
   "source": [
    "ds.head(10)"
   ]
  },
  {
   "cell_type": "markdown",
   "metadata": {},
   "source": [
    "Using a .tail() method will give you the five last rows:"
   ]
  },
  {
   "cell_type": "code",
   "execution_count": 15,
   "metadata": {},
   "outputs": [
    {
     "data": {
      "text/html": [
       "<div>\n",
       "<style scoped>\n",
       "    .dataframe tbody tr th:only-of-type {\n",
       "        vertical-align: middle;\n",
       "    }\n",
       "\n",
       "    .dataframe tbody tr th {\n",
       "        vertical-align: top;\n",
       "    }\n",
       "\n",
       "    .dataframe thead th {\n",
       "        text-align: right;\n",
       "    }\n",
       "</style>\n",
       "<table border=\"1\" class=\"dataframe\">\n",
       "  <thead>\n",
       "    <tr style=\"text-align: right;\">\n",
       "      <th></th>\n",
       "      <th>Country</th>\n",
       "      <th>Age</th>\n",
       "      <th>Salary</th>\n",
       "      <th>Purchased</th>\n",
       "    </tr>\n",
       "  </thead>\n",
       "  <tbody>\n",
       "    <tr>\n",
       "      <th>65</th>\n",
       "      <td>Pakistan</td>\n",
       "      <td>37.0</td>\n",
       "      <td>25000.0</td>\n",
       "      <td>Yes</td>\n",
       "    </tr>\n",
       "    <tr>\n",
       "      <th>66</th>\n",
       "      <td>Israel</td>\n",
       "      <td>70.0</td>\n",
       "      <td>80000.0</td>\n",
       "      <td>No</td>\n",
       "    </tr>\n",
       "    <tr>\n",
       "      <th>67</th>\n",
       "      <td>Tunisia</td>\n",
       "      <td>42.0</td>\n",
       "      <td>36000.0</td>\n",
       "      <td>No</td>\n",
       "    </tr>\n",
       "    <tr>\n",
       "      <th>68</th>\n",
       "      <td>Algeria</td>\n",
       "      <td>20.0</td>\n",
       "      <td>18000.0</td>\n",
       "      <td>No</td>\n",
       "    </tr>\n",
       "    <tr>\n",
       "      <th>69</th>\n",
       "      <td>Morocco</td>\n",
       "      <td>60.0</td>\n",
       "      <td>56000.0</td>\n",
       "      <td>Yes</td>\n",
       "    </tr>\n",
       "  </tbody>\n",
       "</table>\n",
       "</div>"
      ],
      "text/plain": [
       "     Country   Age   Salary Purchased\n",
       "65  Pakistan  37.0  25000.0       Yes\n",
       "66    Israel  70.0  80000.0        No\n",
       "67   Tunisia  42.0  36000.0        No\n",
       "68   Algeria  20.0  18000.0        No\n",
       "69   Morocco  60.0  56000.0       Yes"
      ]
     },
     "execution_count": 15,
     "metadata": {},
     "output_type": "execute_result"
    }
   ],
   "source": [
    "ds.tail()"
   ]
  },
  {
   "cell_type": "markdown",
   "metadata": {},
   "source": [
    "Just like before, you can insert a number into the brackets and it will give you that number of rows:"
   ]
  },
  {
   "cell_type": "code",
   "execution_count": 10,
   "metadata": {},
   "outputs": [
    {
     "data": {
      "text/html": [
       "<div>\n",
       "<style scoped>\n",
       "    .dataframe tbody tr th:only-of-type {\n",
       "        vertical-align: middle;\n",
       "    }\n",
       "\n",
       "    .dataframe tbody tr th {\n",
       "        vertical-align: top;\n",
       "    }\n",
       "\n",
       "    .dataframe thead th {\n",
       "        text-align: right;\n",
       "    }\n",
       "</style>\n",
       "<table border=\"1\" class=\"dataframe\">\n",
       "  <thead>\n",
       "    <tr style=\"text-align: right;\">\n",
       "      <th></th>\n",
       "      <th>Country</th>\n",
       "      <th>Age</th>\n",
       "      <th>Salary</th>\n",
       "      <th>Purchased</th>\n",
       "    </tr>\n",
       "  </thead>\n",
       "  <tbody>\n",
       "    <tr>\n",
       "      <th>67</th>\n",
       "      <td>Tunisia</td>\n",
       "      <td>42.0</td>\n",
       "      <td>36000.0</td>\n",
       "      <td>No</td>\n",
       "    </tr>\n",
       "    <tr>\n",
       "      <th>68</th>\n",
       "      <td>Algeria</td>\n",
       "      <td>20.0</td>\n",
       "      <td>18000.0</td>\n",
       "      <td>No</td>\n",
       "    </tr>\n",
       "    <tr>\n",
       "      <th>69</th>\n",
       "      <td>Morocco</td>\n",
       "      <td>60.0</td>\n",
       "      <td>56000.0</td>\n",
       "      <td>Yes</td>\n",
       "    </tr>\n",
       "  </tbody>\n",
       "</table>\n",
       "</div>"
      ],
      "text/plain": [
       "    Country   Age   Salary Purchased\n",
       "67  Tunisia  42.0  36000.0        No\n",
       "68  Algeria  20.0  18000.0        No\n",
       "69  Morocco  60.0  56000.0       Yes"
      ]
     },
     "execution_count": 10,
     "metadata": {},
     "output_type": "execute_result"
    }
   ],
   "source": [
    "ds.tail(3)"
   ]
  },
  {
   "cell_type": "markdown",
   "metadata": {},
   "source": [
    "### You're now ready to try it out yourself! :)"
   ]
  },
  {
   "cell_type": "markdown",
   "metadata": {},
   "source": [
    "#### **<font color = Green>1. Using markdowns</font>**\n",
    "\n",
    "Can you turn this question into a green header? "
   ]
  },
  {
   "cell_type": "markdown",
   "metadata": {},
   "source": [
    "#### **<font color = Purple>2. Using methods</font>**\n",
    "\n",
    "Use what you learned so far to find the name of the country with index 48 (remember that the index of the dataframe starts at 0 - not 1):"
   ]
  },
  {
   "cell_type": "code",
   "execution_count": 15,
   "metadata": {},
   "outputs": [
    {
     "data": {
      "text/plain": [
       "Country       Poland\n",
       "Age             54.0\n",
       "Salary       36000.0\n",
       "Purchased         No\n",
       "Name: 47, dtype: object"
      ]
     },
     "execution_count": 15,
     "metadata": {},
     "output_type": "execute_result"
    }
   ],
   "source": [
    "ds.head(47)"
   ]
  },
  {
   "cell_type": "markdown",
   "metadata": {},
   "source": [
    "Now, it's time for a challenge!\n",
    "\n",
    "Search online to figure out how to get Pandas to return the information in the row with index 48 *only* (i.e., not several rows of the dataframe):"
   ]
  },
  {
   "cell_type": "code",
   "execution_count": null,
   "metadata": {},
   "outputs": [],
   "source": [
    "ds.iloc[47]"
   ]
  },
  {
   "cell_type": "markdown",
   "metadata": {},
   "source": [
    "#### **<font color = Purple>3. Creating a new variable</font>**\n",
    "\n",
    "Can you create a variable named <i> \"last_5_rows\" </i> and assign the last 5 rows of the dataset to it?"
   ]
  },
  {
   "cell_type": "code",
   "execution_count": 17,
   "metadata": {},
   "outputs": [],
   "source": [
    "last_5_rows = ds.tail(5)"
   ]
  },
  {
   "cell_type": "markdown",
   "metadata": {},
   "source": [
    "#### **<font color = Purple>4. Create and open your own file</font>**\n",
    "\n",
    "Create a .txt file and give it a name. Within that file paste in the following three lines:\n",
    "\n",
    "One;Two;Three;Four\\\n",
    "1;2;3;4\\\n",
    "I;II;III;IV\n",
    "\n",
    "See if you can identify the <b>delimiter</b> and open the file yourself.\\\n",
    "<i>(Make sure to save your .txt-file in the same folder as this Jupyter Notebook!)</i>\n",
    "\n",
    "If you need more information to get going: Start by loading the dataset into your notebook. You can reuse the code from \"2. Importing the dataset\" - you just need to change the filename.  \n",
    "\n",
    "Then check to see if you used the right delimiter by using the \".head()\" function again. This will print out how your data looks. Does it look right? If not, try changing the delimiter."
   ]
  },
  {
   "cell_type": "code",
   "execution_count": 22,
   "metadata": {},
   "outputs": [
    {
     "data": {
      "text/html": [
       "<div>\n",
       "<style scoped>\n",
       "    .dataframe tbody tr th:only-of-type {\n",
       "        vertical-align: middle;\n",
       "    }\n",
       "\n",
       "    .dataframe tbody tr th {\n",
       "        vertical-align: top;\n",
       "    }\n",
       "\n",
       "    .dataframe thead th {\n",
       "        text-align: right;\n",
       "    }\n",
       "</style>\n",
       "<table border=\"1\" class=\"dataframe\">\n",
       "  <thead>\n",
       "    <tr style=\"text-align: right;\">\n",
       "      <th></th>\n",
       "      <th>One</th>\n",
       "      <th>Two</th>\n",
       "      <th>Three</th>\n",
       "      <th>Four</th>\n",
       "    </tr>\n",
       "  </thead>\n",
       "  <tbody>\n",
       "    <tr>\n",
       "      <th>0</th>\n",
       "      <td>1</td>\n",
       "      <td>2</td>\n",
       "      <td>3</td>\n",
       "      <td>4</td>\n",
       "    </tr>\n",
       "    <tr>\n",
       "      <th>1</th>\n",
       "      <td>I</td>\n",
       "      <td>II</td>\n",
       "      <td>III</td>\n",
       "      <td>IV</td>\n",
       "    </tr>\n",
       "  </tbody>\n",
       "</table>\n",
       "</div>"
      ],
      "text/plain": [
       "  One Two Three Four\n",
       "0   1   2     3    4\n",
       "1   I  II   III   IV"
      ]
     },
     "execution_count": 22,
     "metadata": {},
     "output_type": "execute_result"
    }
   ],
   "source": [
    "small_file_df = pd.read_csv('small_test_file.txt', delimiter = ';')\n",
    "small_file_df.head()"
   ]
  },
  {
   "cell_type": "markdown",
   "metadata": {},
   "source": [
    "#### **<font color = Purple>5. Opening an excel file</font>**\n",
    "\n",
    "Try creating an excel file with data in it (or use one you already have) and open it from a different folder than the one your notebook is saved in.\n",
    "\n"
   ]
  },
  {
   "cell_type": "code",
   "execution_count": 52,
   "metadata": {},
   "outputs": [
    {
     "data": {
      "text/html": [
       "<div>\n",
       "<style scoped>\n",
       "    .dataframe tbody tr th:only-of-type {\n",
       "        vertical-align: middle;\n",
       "    }\n",
       "\n",
       "    .dataframe tbody tr th {\n",
       "        vertical-align: top;\n",
       "    }\n",
       "\n",
       "    .dataframe thead th {\n",
       "        text-align: right;\n",
       "    }\n",
       "</style>\n",
       "<table border=\"1\" class=\"dataframe\">\n",
       "  <thead>\n",
       "    <tr style=\"text-align: right;\">\n",
       "      <th></th>\n",
       "      <th>Order ID</th>\n",
       "      <th>Order Date</th>\n",
       "      <th>Order Quantity</th>\n",
       "      <th>Sales</th>\n",
       "      <th>Ship Mode</th>\n",
       "      <th>Profit</th>\n",
       "      <th>Unit Price</th>\n",
       "      <th>Customer Name</th>\n",
       "      <th>Customer Segment</th>\n",
       "      <th>Product Category</th>\n",
       "    </tr>\n",
       "  </thead>\n",
       "  <tbody>\n",
       "    <tr>\n",
       "      <th>0</th>\n",
       "      <td>3</td>\n",
       "      <td>2010-10-13</td>\n",
       "      <td>6</td>\n",
       "      <td>261.5400</td>\n",
       "      <td>Regular Air</td>\n",
       "      <td>-213.250</td>\n",
       "      <td>38.94</td>\n",
       "      <td>Muhammed MacIntyre</td>\n",
       "      <td>Small Business</td>\n",
       "      <td>Office Supplies</td>\n",
       "    </tr>\n",
       "    <tr>\n",
       "      <th>1</th>\n",
       "      <td>6</td>\n",
       "      <td>2012-02-20</td>\n",
       "      <td>2</td>\n",
       "      <td>6.9300</td>\n",
       "      <td>Regular Air</td>\n",
       "      <td>-4.640</td>\n",
       "      <td>2.08</td>\n",
       "      <td>Ruben Dartt</td>\n",
       "      <td>Corporate</td>\n",
       "      <td>Office Supplies</td>\n",
       "    </tr>\n",
       "    <tr>\n",
       "      <th>2</th>\n",
       "      <td>32</td>\n",
       "      <td>2011-07-15</td>\n",
       "      <td>26</td>\n",
       "      <td>2808.0800</td>\n",
       "      <td>Regular Air</td>\n",
       "      <td>1054.820</td>\n",
       "      <td>107.53</td>\n",
       "      <td>Liz Pelletier</td>\n",
       "      <td>Corporate</td>\n",
       "      <td>Furniture</td>\n",
       "    </tr>\n",
       "    <tr>\n",
       "      <th>3</th>\n",
       "      <td>32</td>\n",
       "      <td>2011-07-15</td>\n",
       "      <td>24</td>\n",
       "      <td>1761.4000</td>\n",
       "      <td>Delivery Truck</td>\n",
       "      <td>-1748.560</td>\n",
       "      <td>70.89</td>\n",
       "      <td>Liz Pelletier</td>\n",
       "      <td>Corporate</td>\n",
       "      <td>Furniture</td>\n",
       "    </tr>\n",
       "    <tr>\n",
       "      <th>4</th>\n",
       "      <td>32</td>\n",
       "      <td>2011-07-15</td>\n",
       "      <td>23</td>\n",
       "      <td>160.2335</td>\n",
       "      <td>Regular Air</td>\n",
       "      <td>-85.129</td>\n",
       "      <td>7.99</td>\n",
       "      <td>Liz Pelletier</td>\n",
       "      <td>Corporate</td>\n",
       "      <td>Technology</td>\n",
       "    </tr>\n",
       "  </tbody>\n",
       "</table>\n",
       "</div>"
      ],
      "text/plain": [
       "   Order ID Order Date  Order Quantity      Sales       Ship Mode    Profit  \\\n",
       "0         3 2010-10-13               6   261.5400     Regular Air  -213.250   \n",
       "1         6 2012-02-20               2     6.9300     Regular Air    -4.640   \n",
       "2        32 2011-07-15              26  2808.0800     Regular Air  1054.820   \n",
       "3        32 2011-07-15              24  1761.4000  Delivery Truck -1748.560   \n",
       "4        32 2011-07-15              23   160.2335     Regular Air   -85.129   \n",
       "\n",
       "   Unit Price       Customer Name Customer Segment Product Category  \n",
       "0       38.94  Muhammed MacIntyre   Small Business  Office Supplies  \n",
       "1        2.08         Ruben Dartt        Corporate  Office Supplies  \n",
       "2      107.53       Liz Pelletier        Corporate        Furniture  \n",
       "3       70.89       Liz Pelletier        Corporate        Furniture  \n",
       "4        7.99       Liz Pelletier        Corporate       Technology  "
      ]
     },
     "execution_count": 52,
     "metadata": {},
     "output_type": "execute_result"
    }
   ],
   "source": [
    "import xlrd\n",
    "excel_df = pd.read_excel('/Users/simonskodt/MSc_CS/8_semester/BIDAP_Big-Data-Processes/Dummy_excel_files/Orders_with_Null.xlsx')\n",
    "excel_df.head()"
   ]
  },
  {
   "cell_type": "code",
   "execution_count": 50,
   "metadata": {},
   "outputs": [
    {
     "data": {
      "text/html": [
       "<div>\n",
       "<style scoped>\n",
       "    .dataframe tbody tr th:only-of-type {\n",
       "        vertical-align: middle;\n",
       "    }\n",
       "\n",
       "    .dataframe tbody tr th {\n",
       "        vertical-align: top;\n",
       "    }\n",
       "\n",
       "    .dataframe thead th {\n",
       "        text-align: right;\n",
       "    }\n",
       "</style>\n",
       "<table border=\"1\" class=\"dataframe\">\n",
       "  <thead>\n",
       "    <tr style=\"text-align: right;\">\n",
       "      <th></th>\n",
       "      <th>Order ID</th>\n",
       "      <th>Order Date</th>\n",
       "      <th>Order Quantity</th>\n",
       "      <th>Sales</th>\n",
       "      <th>Ship Mode</th>\n",
       "      <th>Profit</th>\n",
       "      <th>Unit Price</th>\n",
       "      <th>Customer Name</th>\n",
       "      <th>Customer Segment</th>\n",
       "      <th>Product Category</th>\n",
       "    </tr>\n",
       "  </thead>\n",
       "  <tbody>\n",
       "    <tr>\n",
       "      <th>0</th>\n",
       "      <td>3</td>\n",
       "      <td>2010-10-13</td>\n",
       "      <td>6</td>\n",
       "      <td>261.54</td>\n",
       "      <td>Regular Air</td>\n",
       "      <td>-213.25</td>\n",
       "      <td>38.94</td>\n",
       "      <td>Muhammed MacIntyre</td>\n",
       "      <td>Small Business</td>\n",
       "      <td>Office Supplies</td>\n",
       "    </tr>\n",
       "  </tbody>\n",
       "</table>\n",
       "</div>"
      ],
      "text/plain": [
       "   Order ID Order Date  Order Quantity   Sales    Ship Mode  Profit  \\\n",
       "0         3 2010-10-13               6  261.54  Regular Air -213.25   \n",
       "\n",
       "   Unit Price       Customer Name Customer Segment Product Category  \n",
       "0       38.94  Muhammed MacIntyre   Small Business  Office Supplies  "
      ]
     },
     "execution_count": 50,
     "metadata": {},
     "output_type": "execute_result"
    }
   ],
   "source": [
    "# Simple query on order id of 3\n",
    "ORDER_ID = 3\n",
    "order_id_1 = excel_df[excel_df['Order ID'] == ORDER_ID]\n",
    "order_id_1"
   ]
  },
  {
   "cell_type": "markdown",
   "metadata": {},
   "source": [
    "# Take home messages\n",
    "\n",
    "After finishing this notebook, you should know:\n",
    "- How to install and import a library\n",
    "- How to store data from different type of files in a variable/dataframe\n",
    "- How to apply methods to a variable/dataframe to visualize different rows\n",
    "\n",
    "Still a bit confused? Take a look at this beginner's guide to Pandas: https://www.w3schools.com/python/pandas/default.asp"
   ]
  }
 ],
 "metadata": {
  "kernelspec": {
   "display_name": "Python 3 (ipykernel)",
   "language": "python",
   "name": "python3"
  },
  "language_info": {
   "codemirror_mode": {
    "name": "ipython",
    "version": 3
   },
   "file_extension": ".py",
   "mimetype": "text/x-python",
   "name": "python",
   "nbconvert_exporter": "python",
   "pygments_lexer": "ipython3",
   "version": "3.10.12"
  }
 },
 "nbformat": 4,
 "nbformat_minor": 4
}
