{
 "cells": [
  {
   "cell_type": "markdown",
   "id": "71575219",
   "metadata": {},
   "source": [
    "# Big Data Processes Exercises - Week 06\n",
    "# <font color= MediumSpringGreen>CodeCarbon</font>\n",
    "\n",
    "#### What we will cover today\n",
    "\n",
    "<ol>\n",
    "    <li>Importing packages and libraries</li>\n",
    "    <li>Loading the dataset</li>\n",
    "    <li>CodeCarbon</li>\n",
    "    <ol>\n",
    "        <li>Decision Tree from week 3</li>\n",
    "        <li>Testing with CodeCarbon</li>\n",
    "        <li>Evaluating the model</li>\n",
    "        <li>Evaluating emissions</li>\n",
    "    </ol>\n",
    "</ol>\n",
    "\n",
    "Info about CodeCarbon: https://mlco2.github.io/codecarbon/\n",
    "\n",
    "***\n",
    "***\n",
    "***"
   ]
  },
  {
   "cell_type": "markdown",
   "id": "e8a70e9f",
   "metadata": {},
   "source": [
    "## 1. Importing various libraries"
   ]
  },
  {
   "cell_type": "code",
   "execution_count": 1,
   "id": "ecc57655",
   "metadata": {},
   "outputs": [],
   "source": [
    "#%pip install seaborn\n",
    "#%pip install sklearn\n",
    "#pip install scikit-learn\n",
    "\n",
    "import pandas as pd \n",
    "import numpy as np\n",
    "import seaborn as sns\n",
    "import matplotlib.pyplot as plt\n",
    "\n",
    "from sklearn.tree import DecisionTreeClassifier\n",
    "from sklearn import metrics\n",
    "from sklearn.metrics import confusion_matrix, accuracy_score, precision_score, recall_score, f1_score, roc_curve, auc \n",
    "from sklearn.model_selection import train_test_split\n",
    "from sklearn.model_selection import cross_val_score"
   ]
  },
  {
   "cell_type": "markdown",
   "id": "2f31c09a",
   "metadata": {},
   "source": [
    "### 1.1 Installing and importing <font color=MediumSpringGreen>CodeCarbon </font>"
   ]
  },
  {
   "cell_type": "code",
   "execution_count": 2,
   "id": "2a231297",
   "metadata": {},
   "outputs": [
    {
     "name": "stdout",
     "output_type": "stream",
     "text": [
      "Collecting codecarbon\n",
      "  Obtaining dependency information for codecarbon from https://files.pythonhosted.org/packages/8a/c5/4b02e1eaa6277f0d0a0e354f3c49842fc485aedb146d4ad2c2fb3112ac65/codecarbon-2.3.4-py3-none-any.whl.metadata\n",
      "  Downloading codecarbon-2.3.4-py3-none-any.whl.metadata (6.6 kB)\n",
      "Requirement already satisfied: arrow in /Users/simonskodt/anaconda3/envs/iml/lib/python3.10/site-packages (from codecarbon) (1.2.3)\n",
      "Requirement already satisfied: pandas in /Users/simonskodt/anaconda3/envs/iml/lib/python3.10/site-packages (from codecarbon) (2.1.0)\n",
      "Collecting pynvml (from codecarbon)\n",
      "  Obtaining dependency information for pynvml from https://files.pythonhosted.org/packages/5b/9c/adb8070059caaa15d5a572b66bccd95900d8c1b9fa54d6ecea6ae97448d1/pynvml-11.5.0-py3-none-any.whl.metadata\n",
      "  Downloading pynvml-11.5.0-py3-none-any.whl.metadata (7.8 kB)\n",
      "Requirement already satisfied: requests in /Users/simonskodt/anaconda3/envs/iml/lib/python3.10/site-packages (from codecarbon) (2.31.0)\n",
      "Requirement already satisfied: psutil in /Users/simonskodt/anaconda3/envs/iml/lib/python3.10/site-packages (from codecarbon) (5.9.5)\n",
      "Collecting py-cpuinfo (from codecarbon)\n",
      "  Obtaining dependency information for py-cpuinfo from https://files.pythonhosted.org/packages/e0/a9/023730ba63db1e494a271cb018dcd361bd2c917ba7004c3e49d5daf795a2/py_cpuinfo-9.0.0-py3-none-any.whl.metadata\n",
      "  Downloading py_cpuinfo-9.0.0-py3-none-any.whl.metadata (794 bytes)\n",
      "Collecting rapidfuzz (from codecarbon)\n",
      "  Obtaining dependency information for rapidfuzz from https://files.pythonhosted.org/packages/45/81/d5d52133f647f35d9a4e3807579966057d4c7c2106085f43548f929e87e5/rapidfuzz-3.6.2-cp310-cp310-macosx_11_0_arm64.whl.metadata\n",
      "  Downloading rapidfuzz-3.6.2-cp310-cp310-macosx_11_0_arm64.whl.metadata (11 kB)\n",
      "Requirement already satisfied: click in /Users/simonskodt/anaconda3/envs/iml/lib/python3.10/site-packages (from codecarbon) (8.1.7)\n",
      "Requirement already satisfied: prometheus-client in /Users/simonskodt/anaconda3/envs/iml/lib/python3.10/site-packages (from codecarbon) (0.17.1)\n",
      "Requirement already satisfied: python-dateutil>=2.7.0 in /Users/simonskodt/anaconda3/envs/iml/lib/python3.10/site-packages (from arrow->codecarbon) (2.8.2)\n",
      "Requirement already satisfied: numpy>=1.22.4 in /Users/simonskodt/anaconda3/envs/iml/lib/python3.10/site-packages (from pandas->codecarbon) (1.24.4)\n",
      "Requirement already satisfied: pytz>=2020.1 in /Users/simonskodt/anaconda3/envs/iml/lib/python3.10/site-packages (from pandas->codecarbon) (2023.3)\n",
      "Requirement already satisfied: tzdata>=2022.1 in /Users/simonskodt/anaconda3/envs/iml/lib/python3.10/site-packages (from pandas->codecarbon) (2023.3)\n",
      "Requirement already satisfied: charset-normalizer<4,>=2 in /Users/simonskodt/anaconda3/envs/iml/lib/python3.10/site-packages (from requests->codecarbon) (3.2.0)\n",
      "Requirement already satisfied: idna<4,>=2.5 in /Users/simonskodt/anaconda3/envs/iml/lib/python3.10/site-packages (from requests->codecarbon) (3.4)\n",
      "Requirement already satisfied: urllib3<3,>=1.21.1 in /Users/simonskodt/anaconda3/envs/iml/lib/python3.10/site-packages (from requests->codecarbon) (2.0.4)\n",
      "Requirement already satisfied: certifi>=2017.4.17 in /Users/simonskodt/anaconda3/envs/iml/lib/python3.10/site-packages (from requests->codecarbon) (2024.2.2)\n",
      "Requirement already satisfied: six>=1.5 in /Users/simonskodt/anaconda3/envs/iml/lib/python3.10/site-packages (from python-dateutil>=2.7.0->arrow->codecarbon) (1.16.0)\n",
      "Downloading codecarbon-2.3.4-py3-none-any.whl (181 kB)\n",
      "\u001b[2K   \u001b[38;2;114;156;31m━━━━━━━━━━━━━━━━━━━━━━━━━━━━━━━━━━━━━━━━\u001b[0m \u001b[32m181.6/181.6 kB\u001b[0m \u001b[31m4.1 MB/s\u001b[0m eta \u001b[36m0:00:00\u001b[0m MB/s\u001b[0m eta \u001b[36m0:00:01\u001b[0m\n",
      "\u001b[?25hDownloading py_cpuinfo-9.0.0-py3-none-any.whl (22 kB)\n",
      "Downloading pynvml-11.5.0-py3-none-any.whl (53 kB)\n",
      "\u001b[2K   \u001b[38;2;114;156;31m━━━━━━━━━━━━━━━━━━━━━━━━━━━━━━━━━━━━━━━━\u001b[0m \u001b[32m53.1/53.1 kB\u001b[0m \u001b[31m5.4 MB/s\u001b[0m eta \u001b[36m0:00:00\u001b[0m\n",
      "\u001b[?25hDownloading rapidfuzz-3.6.2-cp310-cp310-macosx_11_0_arm64.whl (1.2 MB)\n",
      "\u001b[2K   \u001b[38;2;114;156;31m━━━━━━━━━━━━━━━━━━━━━━━━━━━━━━━━━━━━━━━━\u001b[0m \u001b[32m1.2/1.2 MB\u001b[0m \u001b[31m11.9 MB/s\u001b[0m eta \u001b[36m0:00:00\u001b[0m MB/s\u001b[0m eta \u001b[36m0:00:01\u001b[0m\n",
      "\u001b[?25hInstalling collected packages: py-cpuinfo, rapidfuzz, pynvml, codecarbon\n",
      "Successfully installed codecarbon-2.3.4 py-cpuinfo-9.0.0 pynvml-11.5.0 rapidfuzz-3.6.2\n",
      "Note: you may need to restart the kernel to use updated packages.\n"
     ]
    }
   ],
   "source": [
    "%pip install codecarbon"
   ]
  },
  {
   "cell_type": "code",
   "execution_count": 3,
   "id": "019249b3",
   "metadata": {},
   "outputs": [],
   "source": [
    "from codecarbon import EmissionsTracker"
   ]
  },
  {
   "cell_type": "markdown",
   "id": "edac3fcc",
   "metadata": {},
   "source": [
    "***\n",
    "***\n",
    "## 2. Load and examine the data\n",
    "\n",
    "Yet again, we will again be using the **IBM-employee-attrition dataset** where we will try and predict if an employee has attrition or not, aka. whether they have left the company or not. \n",
    "\n",
    "As we have explained before, our target variable, attrition, is either be 0 or 1:\n",
    "- 0 = No attrition, the employee did not leave the company. The negative class\n",
    "- 1 = Attrition, the employee left the company. The positive class <-- our focus"
   ]
  },
  {
   "cell_type": "code",
   "execution_count": 4,
   "id": "d231678e",
   "metadata": {},
   "outputs": [],
   "source": [
    "df = pd.read_csv(\"IBM-Employee-Attrition.csv\", delimiter=',')"
   ]
  },
  {
   "cell_type": "markdown",
   "id": "d56236a6",
   "metadata": {},
   "source": [
    "Examine the notebook if necessary"
   ]
  },
  {
   "cell_type": "code",
   "execution_count": 5,
   "id": "cb41d730",
   "metadata": {},
   "outputs": [
    {
     "name": "stdout",
     "output_type": "stream",
     "text": [
      "<class 'pandas.core.frame.DataFrame'>\n",
      "RangeIndex: 1470 entries, 0 to 1469\n",
      "Data columns (total 35 columns):\n",
      " #   Column                    Non-Null Count  Dtype \n",
      "---  ------                    --------------  ----- \n",
      " 0   Age                       1470 non-null   int64 \n",
      " 1   Attrition                 1470 non-null   int64 \n",
      " 2   BusinessTravel            1470 non-null   object\n",
      " 3   DailyRate                 1470 non-null   int64 \n",
      " 4   Department                1470 non-null   object\n",
      " 5   DistanceFromHome          1470 non-null   int64 \n",
      " 6   Education                 1470 non-null   int64 \n",
      " 7   EducationField            1470 non-null   object\n",
      " 8   EmployeeCount             1470 non-null   int64 \n",
      " 9   EmployeeNumber            1470 non-null   int64 \n",
      " 10  EnvironmentSatisfaction   1470 non-null   int64 \n",
      " 11  Gender                    1470 non-null   object\n",
      " 12  HourlyRate                1470 non-null   int64 \n",
      " 13  JobInvolvement            1470 non-null   int64 \n",
      " 14  JobLevel                  1470 non-null   int64 \n",
      " 15  JobRole                   1470 non-null   object\n",
      " 16  JobSatisfaction           1470 non-null   int64 \n",
      " 17  MaritalStatus             1470 non-null   object\n",
      " 18  MonthlyIncome             1470 non-null   int64 \n",
      " 19  MonthlyRate               1470 non-null   int64 \n",
      " 20  NumCompaniesWorked        1470 non-null   int64 \n",
      " 21  Over18                    1470 non-null   object\n",
      " 22  OverTime                  1470 non-null   object\n",
      " 23  PercentSalaryHike         1470 non-null   int64 \n",
      " 24  PerformanceRating         1470 non-null   int64 \n",
      " 25  RelationshipSatisfaction  1470 non-null   int64 \n",
      " 26  StandardHours             1470 non-null   int64 \n",
      " 27  StockOptionLevel          1470 non-null   int64 \n",
      " 28  TotalWorkingYears         1470 non-null   int64 \n",
      " 29  TrainingTimesLastYear     1470 non-null   int64 \n",
      " 30  WorkLifeBalance           1470 non-null   int64 \n",
      " 31  YearsAtCompany            1470 non-null   int64 \n",
      " 32  YearsInCurrentRole        1470 non-null   int64 \n",
      " 33  YearsSinceLastPromotion   1470 non-null   int64 \n",
      " 34  YearsWithCurrManager      1470 non-null   int64 \n",
      "dtypes: int64(27), object(8)\n",
      "memory usage: 402.1+ KB\n"
     ]
    }
   ],
   "source": [
    "df.head()\n",
    "df.info()"
   ]
  },
  {
   "cell_type": "markdown",
   "id": "1a5eeede",
   "metadata": {},
   "source": [
    "***\n",
    "***\n",
    "\n",
    "## 3. Classification Decision Trees with an EmissionsTracker\n",
    "\n",
    "We will try CodeCarbon on the Classification Decision Tree model week 3 (Classification) in order to test how many emissions does our model release "
   ]
  },
  {
   "cell_type": "markdown",
   "id": "0d9f6b5a",
   "metadata": {},
   "source": [
    "### 3.1 Selecting target features"
   ]
  },
  {
   "cell_type": "markdown",
   "id": "c47718d6",
   "metadata": {},
   "source": [
    "We will select the same features as we've used before for our models (go back to the notebook for week 3, if you need a refresher as to how we got these features):"
   ]
  },
  {
   "cell_type": "code",
   "execution_count": 6,
   "id": "4042fd4c",
   "metadata": {},
   "outputs": [],
   "source": [
    "#Create the feature and target variables\n",
    "#From list of feature(s) 'X', the model will guess/predict the 'y' feature (our target)\n",
    "X = df[['EnvironmentSatisfaction', 'JobSatisfaction', 'JobInvolvement', 'YearsAtCompany', 'StockOptionLevel', 'YearsWithCurrManager', 'Age', 'MonthlyIncome', 'YearsInCurrentRole', 'JobLevel', 'TotalWorkingYears']].values\n",
    "\n",
    "y = df['Attrition'].values"
   ]
  },
  {
   "cell_type": "markdown",
   "id": "56c088e6",
   "metadata": {},
   "source": [
    "### 3.2 Split the data in training and test sample"
   ]
  },
  {
   "cell_type": "code",
   "execution_count": 7,
   "id": "45c8f216",
   "metadata": {},
   "outputs": [],
   "source": [
    "X_train, X_test, y_train, y_test = train_test_split(X, y, test_size=0.20, random_state=0)"
   ]
  },
  {
   "cell_type": "markdown",
   "id": "ac9b635c",
   "metadata": {},
   "source": [
    "No need to standardise this time since we are working with a Decision Tree."
   ]
  },
  {
   "cell_type": "markdown",
   "id": "8e1b3f1b",
   "metadata": {},
   "source": [
    "### 3.3 Create the model and initialise the EmissionsTracker"
   ]
  },
  {
   "cell_type": "code",
   "execution_count": 8,
   "id": "7cf555c5",
   "metadata": {},
   "outputs": [
    {
     "name": "stderr",
     "output_type": "stream",
     "text": [
      "[codecarbon INFO @ 14:24:38] [setup] RAM Tracking...\n",
      "[codecarbon INFO @ 14:24:38] [setup] GPU Tracking...\n",
      "[codecarbon INFO @ 14:24:38] No GPU found.\n",
      "[codecarbon INFO @ 14:24:38] [setup] CPU Tracking...\n",
      "[codecarbon WARNING @ 14:24:38] No CPU tracking mode found. Falling back on CPU constant mode.\n",
      "[codecarbon INFO @ 14:24:38] CPU Model on constant consumption mode: Apple M1 Pro\n",
      "[codecarbon INFO @ 14:24:38] >>> Tracker's metadata:\n",
      "[codecarbon INFO @ 14:24:38]   Platform system: macOS-14.4-arm64-arm-64bit\n",
      "[codecarbon INFO @ 14:24:38]   Python version: 3.10.12\n",
      "[codecarbon INFO @ 14:24:38]   CodeCarbon version: 2.3.4\n",
      "[codecarbon INFO @ 14:24:38]   Available RAM : 16.000 GB\n",
      "[codecarbon INFO @ 14:24:38]   CPU count: 10\n",
      "[codecarbon INFO @ 14:24:38]   CPU model: Apple M1 Pro\n",
      "[codecarbon INFO @ 14:24:38]   GPU count: None\n",
      "[codecarbon INFO @ 14:24:38]   GPU model: None\n"
     ]
    }
   ],
   "source": [
    "# Decision Tree Classifier with some hyperparameter tuning from week 4\n",
    "model_DTC = DecisionTreeClassifier(max_depth=5, min_samples_leaf=2, min_samples_split=5, random_state=42)\n",
    "\n",
    "tracker = EmissionsTracker()"
   ]
  },
  {
   "cell_type": "markdown",
   "id": "7c3c76f2",
   "metadata": {},
   "source": [
    "### 3.4 Start the tracker and then fit/train the model on training data"
   ]
  },
  {
   "cell_type": "code",
   "execution_count": 9,
   "id": "b82e7665",
   "metadata": {
    "scrolled": true
   },
   "outputs": [
    {
     "data": {
      "text/html": [
       "<style>#sk-container-id-1 {color: black;}#sk-container-id-1 pre{padding: 0;}#sk-container-id-1 div.sk-toggleable {background-color: white;}#sk-container-id-1 label.sk-toggleable__label {cursor: pointer;display: block;width: 100%;margin-bottom: 0;padding: 0.3em;box-sizing: border-box;text-align: center;}#sk-container-id-1 label.sk-toggleable__label-arrow:before {content: \"▸\";float: left;margin-right: 0.25em;color: #696969;}#sk-container-id-1 label.sk-toggleable__label-arrow:hover:before {color: black;}#sk-container-id-1 div.sk-estimator:hover label.sk-toggleable__label-arrow:before {color: black;}#sk-container-id-1 div.sk-toggleable__content {max-height: 0;max-width: 0;overflow: hidden;text-align: left;background-color: #f0f8ff;}#sk-container-id-1 div.sk-toggleable__content pre {margin: 0.2em;color: black;border-radius: 0.25em;background-color: #f0f8ff;}#sk-container-id-1 input.sk-toggleable__control:checked~div.sk-toggleable__content {max-height: 200px;max-width: 100%;overflow: auto;}#sk-container-id-1 input.sk-toggleable__control:checked~label.sk-toggleable__label-arrow:before {content: \"▾\";}#sk-container-id-1 div.sk-estimator input.sk-toggleable__control:checked~label.sk-toggleable__label {background-color: #d4ebff;}#sk-container-id-1 div.sk-label input.sk-toggleable__control:checked~label.sk-toggleable__label {background-color: #d4ebff;}#sk-container-id-1 input.sk-hidden--visually {border: 0;clip: rect(1px 1px 1px 1px);clip: rect(1px, 1px, 1px, 1px);height: 1px;margin: -1px;overflow: hidden;padding: 0;position: absolute;width: 1px;}#sk-container-id-1 div.sk-estimator {font-family: monospace;background-color: #f0f8ff;border: 1px dotted black;border-radius: 0.25em;box-sizing: border-box;margin-bottom: 0.5em;}#sk-container-id-1 div.sk-estimator:hover {background-color: #d4ebff;}#sk-container-id-1 div.sk-parallel-item::after {content: \"\";width: 100%;border-bottom: 1px solid gray;flex-grow: 1;}#sk-container-id-1 div.sk-label:hover label.sk-toggleable__label {background-color: #d4ebff;}#sk-container-id-1 div.sk-serial::before {content: \"\";position: absolute;border-left: 1px solid gray;box-sizing: border-box;top: 0;bottom: 0;left: 50%;z-index: 0;}#sk-container-id-1 div.sk-serial {display: flex;flex-direction: column;align-items: center;background-color: white;padding-right: 0.2em;padding-left: 0.2em;position: relative;}#sk-container-id-1 div.sk-item {position: relative;z-index: 1;}#sk-container-id-1 div.sk-parallel {display: flex;align-items: stretch;justify-content: center;background-color: white;position: relative;}#sk-container-id-1 div.sk-item::before, #sk-container-id-1 div.sk-parallel-item::before {content: \"\";position: absolute;border-left: 1px solid gray;box-sizing: border-box;top: 0;bottom: 0;left: 50%;z-index: -1;}#sk-container-id-1 div.sk-parallel-item {display: flex;flex-direction: column;z-index: 1;position: relative;background-color: white;}#sk-container-id-1 div.sk-parallel-item:first-child::after {align-self: flex-end;width: 50%;}#sk-container-id-1 div.sk-parallel-item:last-child::after {align-self: flex-start;width: 50%;}#sk-container-id-1 div.sk-parallel-item:only-child::after {width: 0;}#sk-container-id-1 div.sk-dashed-wrapped {border: 1px dashed gray;margin: 0 0.4em 0.5em 0.4em;box-sizing: border-box;padding-bottom: 0.4em;background-color: white;}#sk-container-id-1 div.sk-label label {font-family: monospace;font-weight: bold;display: inline-block;line-height: 1.2em;}#sk-container-id-1 div.sk-label-container {text-align: center;}#sk-container-id-1 div.sk-container {/* jupyter's `normalize.less` sets `[hidden] { display: none; }` but bootstrap.min.css set `[hidden] { display: none !important; }` so we also need the `!important` here to be able to override the default hidden behavior on the sphinx rendered scikit-learn.org. See: https://github.com/scikit-learn/scikit-learn/issues/21755 */display: inline-block !important;position: relative;}#sk-container-id-1 div.sk-text-repr-fallback {display: none;}</style><div id=\"sk-container-id-1\" class=\"sk-top-container\"><div class=\"sk-text-repr-fallback\"><pre>DecisionTreeClassifier(max_depth=5, min_samples_leaf=2, min_samples_split=5,\n",
       "                       random_state=42)</pre><b>In a Jupyter environment, please rerun this cell to show the HTML representation or trust the notebook. <br />On GitHub, the HTML representation is unable to render, please try loading this page with nbviewer.org.</b></div><div class=\"sk-container\" hidden><div class=\"sk-item\"><div class=\"sk-estimator sk-toggleable\"><input class=\"sk-toggleable__control sk-hidden--visually\" id=\"sk-estimator-id-1\" type=\"checkbox\" checked><label for=\"sk-estimator-id-1\" class=\"sk-toggleable__label sk-toggleable__label-arrow\">DecisionTreeClassifier</label><div class=\"sk-toggleable__content\"><pre>DecisionTreeClassifier(max_depth=5, min_samples_leaf=2, min_samples_split=5,\n",
       "                       random_state=42)</pre></div></div></div></div></div>"
      ],
      "text/plain": [
       "DecisionTreeClassifier(max_depth=5, min_samples_leaf=2, min_samples_split=5,\n",
       "                       random_state=42)"
      ]
     },
     "execution_count": 9,
     "metadata": {},
     "output_type": "execute_result"
    }
   ],
   "source": [
    "# Start tracking carbon emissions\n",
    "tracker.start()\n",
    "\n",
    "# fit the classifier to the standardized training data\n",
    "model_DTC.fit(X_train, y_train)"
   ]
  },
  {
   "cell_type": "markdown",
   "id": "772022aa",
   "metadata": {},
   "source": [
    "###  3.5 Make prediction and stop the tracker"
   ]
  },
  {
   "cell_type": "code",
   "execution_count": 10,
   "id": "a8c57b80",
   "metadata": {},
   "outputs": [
    {
     "name": "stderr",
     "output_type": "stream",
     "text": [
      "[codecarbon INFO @ 14:24:45] Energy consumed for RAM : 0.000004 kWh. RAM Power : 6.0 W\n",
      "[codecarbon INFO @ 14:24:45] Energy consumed for all CPUs : 0.000003 kWh. Total CPU Power : 5.0 W\n",
      "[codecarbon INFO @ 14:24:45] 0.000007 kWh of electricity used since the beginning.\n",
      "/Users/simonskodt/anaconda3/envs/iml/lib/python3.10/site-packages/codecarbon/output.py:171: FutureWarning: The behavior of DataFrame concatenation with empty or all-NA entries is deprecated. In a future version, this will no longer exclude empty or all-NA columns when determining the result dtypes. To retain the old behavior, exclude the relevant entries before the concat operation.\n",
      "  df = pd.concat([df, pd.DataFrame.from_records([dict(data.values)])])\n"
     ]
    },
    {
     "data": {
      "text/plain": [
       "1.6262311401552623e-06"
      ]
     },
     "execution_count": 10,
     "metadata": {},
     "output_type": "execute_result"
    }
   ],
   "source": [
    "# Make predictions on the test set\n",
    "y_pred = model_DTC.predict(X_test)\n",
    "\n",
    "# Stop tracking carbon emissions\n",
    "tracker.stop()"
   ]
  },
  {
   "cell_type": "markdown",
   "id": "9820265a",
   "metadata": {},
   "source": [
    "### 3.6 Evaluate the decision tree"
   ]
  },
  {
   "cell_type": "code",
   "execution_count": 11,
   "id": "60a16598",
   "metadata": {
    "scrolled": true
   },
   "outputs": [
    {
     "name": "stdout",
     "output_type": "stream",
     "text": [
      "Accuracy:  0.8299319727891157\n"
     ]
    }
   ],
   "source": [
    "# We evaluate the performance of the classifier using the accuracy score\n",
    "print(\"Accuracy: \", metrics.accuracy_score(y_test, y_pred))"
   ]
  },
  {
   "cell_type": "markdown",
   "id": "269cd640",
   "metadata": {},
   "source": [
    "~0.82 = 82% Accuracy - that can be pretty good for a model. But as we learned last week, evaluating on 'Accuracy' does not work on our imbalanced dataset. We need to use other evaluation metrics.\n",
    "\n",
    "#### 3.6.1 Other evaluation metrics"
   ]
  },
  {
   "cell_type": "markdown",
   "id": "d46f60f6",
   "metadata": {},
   "source": [
    "There are many ways to evaluate machine learning models - what is important to note, is to figure out which evaluation metric or score is best for your <font color=red> model and data </font>. If you need a recap of the different evaluation metrics, we have written a wonderful look-up section in the last week's Notebook 'BDP_Evaluation.ipynb'.\n",
    "\n",
    "Last week, we found out that our IBM-Employee-Attrition dataset is imbalanced. Meaning, when we try and predict the 'Attrition' class, the class is very small compared to the 'No Attrition' majority class. Therefore we cannot use the accuracy metric anymore, since we know that our model will seldom predict an instance of 'Attrition' since it hasn't learned enough about the 'Attrition' class in order for it to predict it. \n",
    "\n",
    "Instead, we will use the *precision*, *recall* and *f1* scores. \n",
    "- Precision summarizes the fraction of examples assigned the positive class that belong to the positive class. (aka. who had attrition that was correctly predicted for attrition)\n",
    "- Recall summarizes how well the positive class was predicted. (aka. how well the 'Attrition' instances were predicted)\n",
    "- F1 score combines both precision and recall into a single score, that balances both scores.\n",
    "\n",
    "For our case, we are equally instereted in False Negatives and False Positives, aka. in the wrongs of our model, so we will focus on the F1-score."
   ]
  },
  {
   "cell_type": "code",
   "execution_count": 12,
   "id": "9744f9ec",
   "metadata": {},
   "outputs": [
    {
     "name": "stdout",
     "output_type": "stream",
     "text": [
      "Precision: 0.4444444444444444\n",
      "Recall: 0.08163265306122448\n",
      "F1-Score: 0.13793103448275862\n"
     ]
    }
   ],
   "source": [
    "precision = precision_score(y_test, y_pred) \n",
    "# Recall \n",
    "recall = recall_score(y_test, y_pred) \n",
    "# F1-Score \n",
    "f1 = f1_score(y_test, y_pred) \n",
    "\n",
    "print(\"Precision:\", precision) \n",
    "print(\"Recall:\", recall) \n",
    "print(\"F1-Score:\", f1) "
   ]
  },
  {
   "cell_type": "markdown",
   "id": "d09d486c",
   "metadata": {},
   "source": [
    "Okay so this is not the greatest model - but what is most important, how much CO2 did our model emit? Hint: look at the output printed when the tracker was stopped..."
   ]
  },
  {
   "cell_type": "markdown",
   "id": "002a6767",
   "metadata": {},
   "source": [
    "***\n",
    "***\n",
    "\n",
    "## 4. Emissions"
   ]
  },
  {
   "cell_type": "markdown",
   "id": "997b6781",
   "metadata": {},
   "source": [
    "After ending the EmissionsTracker, it will save a dataframe as a .csv-file in your directory"
   ]
  },
  {
   "cell_type": "code",
   "execution_count": 13,
   "id": "e142a36c",
   "metadata": {},
   "outputs": [
    {
     "name": "stdout",
     "output_type": "stream",
     "text": [
      "<class 'pandas.core.frame.DataFrame'>\n",
      "RangeIndex: 5 entries, 0 to 4\n",
      "Data columns (total 31 columns):\n",
      " #   Column              Non-Null Count  Dtype  \n",
      "---  ------              --------------  -----  \n",
      " 0   timestamp           5 non-null      object \n",
      " 1   project_name        5 non-null      object \n",
      " 2   run_id              5 non-null      object \n",
      " 3   duration            5 non-null      float64\n",
      " 4   emissions           5 non-null      float64\n",
      " 5   emissions_rate      5 non-null      float64\n",
      " 6   cpu_power           5 non-null      float64\n",
      " 7   gpu_power           5 non-null      float64\n",
      " 8   ram_power           5 non-null      float64\n",
      " 9   cpu_energy          5 non-null      float64\n",
      " 10  gpu_energy          5 non-null      float64\n",
      " 11  ram_energy          5 non-null      float64\n",
      " 12  energy_consumed     5 non-null      float64\n",
      " 13  country_name        5 non-null      object \n",
      " 14  country_iso_code    5 non-null      object \n",
      " 15  region              1 non-null      object \n",
      " 16  cloud_provider      0 non-null      float64\n",
      " 17  cloud_region        0 non-null      float64\n",
      " 18  os                  5 non-null      object \n",
      " 19  python_version      5 non-null      object \n",
      " 20  codecarbon_version  5 non-null      object \n",
      " 21  cpu_count           5 non-null      int64  \n",
      " 22  cpu_model           5 non-null      object \n",
      " 23  gpu_count           1 non-null      float64\n",
      " 24  gpu_model           1 non-null      object \n",
      " 25  longitude           5 non-null      float64\n",
      " 26  latitude            5 non-null      float64\n",
      " 27  ram_total_size      5 non-null      float64\n",
      " 28  tracking_mode       5 non-null      object \n",
      " 29  on_cloud            5 non-null      object \n",
      " 30  pue                 5 non-null      float64\n",
      "dtypes: float64(17), int64(1), object(13)\n",
      "memory usage: 1.3+ KB\n"
     ]
    }
   ],
   "source": [
    "emissions_df = pd.read_csv(\"emissions.csv\")\n",
    "emissions_df.info()"
   ]
  },
  {
   "cell_type": "markdown",
   "id": "04cc30c7",
   "metadata": {},
   "source": [
    "You can read more about the columns, what they represent and their format, at: https://mlco2.github.io/codecarbon/output.html#csv "
   ]
  },
  {
   "cell_type": "code",
   "execution_count": 14,
   "id": "8ec859e6",
   "metadata": {},
   "outputs": [
    {
     "data": {
      "text/html": [
       "<div>\n",
       "<style scoped>\n",
       "    .dataframe tbody tr th:only-of-type {\n",
       "        vertical-align: middle;\n",
       "    }\n",
       "\n",
       "    .dataframe tbody tr th {\n",
       "        vertical-align: top;\n",
       "    }\n",
       "\n",
       "    .dataframe thead th {\n",
       "        text-align: right;\n",
       "    }\n",
       "</style>\n",
       "<table border=\"1\" class=\"dataframe\">\n",
       "  <thead>\n",
       "    <tr style=\"text-align: right;\">\n",
       "      <th></th>\n",
       "      <th>timestamp</th>\n",
       "      <th>project_name</th>\n",
       "      <th>run_id</th>\n",
       "      <th>duration</th>\n",
       "      <th>emissions</th>\n",
       "      <th>emissions_rate</th>\n",
       "      <th>cpu_power</th>\n",
       "      <th>gpu_power</th>\n",
       "      <th>ram_power</th>\n",
       "      <th>cpu_energy</th>\n",
       "      <th>gpu_energy</th>\n",
       "      <th>ram_energy</th>\n",
       "      <th>energy_consumed</th>\n",
       "      <th>country_name</th>\n",
       "      <th>country_iso_code</th>\n",
       "      <th>region</th>\n",
       "      <th>cloud_provider</th>\n",
       "      <th>cloud_region</th>\n",
       "      <th>os</th>\n",
       "      <th>python_version</th>\n",
       "      <th>codecarbon_version</th>\n",
       "      <th>cpu_count</th>\n",
       "      <th>cpu_model</th>\n",
       "      <th>gpu_count</th>\n",
       "      <th>gpu_model</th>\n",
       "      <th>longitude</th>\n",
       "      <th>latitude</th>\n",
       "      <th>ram_total_size</th>\n",
       "      <th>tracking_mode</th>\n",
       "      <th>on_cloud</th>\n",
       "      <th>pue</th>\n",
       "    </tr>\n",
       "  </thead>\n",
       "  <tbody>\n",
       "    <tr>\n",
       "      <th>0</th>\n",
       "      <td>2024-02-05T21:41:36</td>\n",
       "      <td>codecarbon</td>\n",
       "      <td>37ef3e50-1e90-4bae-a6cd-25a6dfe35872</td>\n",
       "      <td>2.570896</td>\n",
       "      <td>0.000013</td>\n",
       "      <td>5.236615e-06</td>\n",
       "      <td>42.5</td>\n",
       "      <td>36.764062</td>\n",
       "      <td>5.977035</td>\n",
       "      <td>0.000030</td>\n",
       "      <td>0.000026</td>\n",
       "      <td>0.000004</td>\n",
       "      <td>0.000061</td>\n",
       "      <td>Denmark</td>\n",
       "      <td>DNK</td>\n",
       "      <td>capital region</td>\n",
       "      <td>NaN</td>\n",
       "      <td>NaN</td>\n",
       "      <td>Windows-10-10.0.19045-SP0</td>\n",
       "      <td>3.11.7</td>\n",
       "      <td>2.3.4</td>\n",
       "      <td>8</td>\n",
       "      <td>Intel(R) Core(TM) i7-4770K CPU @ 3.50GHz</td>\n",
       "      <td>1.0</td>\n",
       "      <td>1 x NVIDIA GeForce GTX 1080</td>\n",
       "      <td>12.4809</td>\n",
       "      <td>55.6740</td>\n",
       "      <td>15.938759</td>\n",
       "      <td>machine</td>\n",
       "      <td>N</td>\n",
       "      <td>1.0</td>\n",
       "    </tr>\n",
       "    <tr>\n",
       "      <th>1</th>\n",
       "      <td>2024-03-01T11:23:43</td>\n",
       "      <td>codecarbon</td>\n",
       "      <td>f45d1a95-3541-4200-8e8e-63c17cad077d</td>\n",
       "      <td>4.338811</td>\n",
       "      <td>0.000012</td>\n",
       "      <td>2.877786e-06</td>\n",
       "      <td>42.5</td>\n",
       "      <td>0.000000</td>\n",
       "      <td>4.334490</td>\n",
       "      <td>0.000051</td>\n",
       "      <td>0.000000</td>\n",
       "      <td>0.000005</td>\n",
       "      <td>0.000056</td>\n",
       "      <td>Denmark</td>\n",
       "      <td>DNK</td>\n",
       "      <td>NaN</td>\n",
       "      <td>NaN</td>\n",
       "      <td>NaN</td>\n",
       "      <td>Linux-6.5.0-21-generic-x86_64-with-glibc2.35</td>\n",
       "      <td>3.10.12</td>\n",
       "      <td>2.3.4</td>\n",
       "      <td>4</td>\n",
       "      <td>Intel(R) Core(TM) i5-6200U CPU @ 2.30GHz</td>\n",
       "      <td>NaN</td>\n",
       "      <td>NaN</td>\n",
       "      <td>12.0564</td>\n",
       "      <td>55.7123</td>\n",
       "      <td>11.558640</td>\n",
       "      <td>machine</td>\n",
       "      <td>N</td>\n",
       "      <td>1.0</td>\n",
       "    </tr>\n",
       "    <tr>\n",
       "      <th>2</th>\n",
       "      <td>2024-03-01T11:31:21</td>\n",
       "      <td>codecarbon</td>\n",
       "      <td>a797f0cb-dc2b-41c0-82f6-522ae48cd31a</td>\n",
       "      <td>329.024675</td>\n",
       "      <td>0.000947</td>\n",
       "      <td>2.879003e-06</td>\n",
       "      <td>42.5</td>\n",
       "      <td>0.000000</td>\n",
       "      <td>4.334490</td>\n",
       "      <td>0.003882</td>\n",
       "      <td>0.000000</td>\n",
       "      <td>0.000396</td>\n",
       "      <td>0.004278</td>\n",
       "      <td>Denmark</td>\n",
       "      <td>DNK</td>\n",
       "      <td>NaN</td>\n",
       "      <td>NaN</td>\n",
       "      <td>NaN</td>\n",
       "      <td>Linux-6.5.0-21-generic-x86_64-with-glibc2.35</td>\n",
       "      <td>3.10.12</td>\n",
       "      <td>2.3.4</td>\n",
       "      <td>4</td>\n",
       "      <td>Intel(R) Core(TM) i5-6200U CPU @ 2.30GHz</td>\n",
       "      <td>NaN</td>\n",
       "      <td>NaN</td>\n",
       "      <td>12.0564</td>\n",
       "      <td>55.7123</td>\n",
       "      <td>11.558640</td>\n",
       "      <td>machine</td>\n",
       "      <td>N</td>\n",
       "      <td>1.0</td>\n",
       "    </tr>\n",
       "    <tr>\n",
       "      <th>3</th>\n",
       "      <td>2024-03-04T10:12:43</td>\n",
       "      <td>codecarbon</td>\n",
       "      <td>afcb5316-9e17-4e2d-8a4b-713663795217</td>\n",
       "      <td>3.755695</td>\n",
       "      <td>0.000012</td>\n",
       "      <td>3.318624e-06</td>\n",
       "      <td>42.5</td>\n",
       "      <td>0.000000</td>\n",
       "      <td>11.538693</td>\n",
       "      <td>0.000044</td>\n",
       "      <td>0.000000</td>\n",
       "      <td>0.000012</td>\n",
       "      <td>0.000056</td>\n",
       "      <td>Denmark</td>\n",
       "      <td>DNK</td>\n",
       "      <td>NaN</td>\n",
       "      <td>NaN</td>\n",
       "      <td>NaN</td>\n",
       "      <td>Windows-10-10.0.19045-SP0</td>\n",
       "      <td>3.12.1</td>\n",
       "      <td>2.3.4</td>\n",
       "      <td>16</td>\n",
       "      <td>AMD Ryzen 7 PRO 6850U with Radeon Graphics</td>\n",
       "      <td>NaN</td>\n",
       "      <td>NaN</td>\n",
       "      <td>12.0564</td>\n",
       "      <td>55.7123</td>\n",
       "      <td>30.769848</td>\n",
       "      <td>machine</td>\n",
       "      <td>N</td>\n",
       "      <td>1.0</td>\n",
       "    </tr>\n",
       "    <tr>\n",
       "      <th>4</th>\n",
       "      <td>2024-03-08T14:24:45</td>\n",
       "      <td>codecarbon</td>\n",
       "      <td>2e8d0e65-c7c8-4764-90e6-7a0315ab4215</td>\n",
       "      <td>2.404702</td>\n",
       "      <td>0.000002</td>\n",
       "      <td>6.762714e-07</td>\n",
       "      <td>5.0</td>\n",
       "      <td>0.000000</td>\n",
       "      <td>6.000000</td>\n",
       "      <td>0.000003</td>\n",
       "      <td>0.000000</td>\n",
       "      <td>0.000004</td>\n",
       "      <td>0.000007</td>\n",
       "      <td>Denmark</td>\n",
       "      <td>DNK</td>\n",
       "      <td>NaN</td>\n",
       "      <td>NaN</td>\n",
       "      <td>NaN</td>\n",
       "      <td>macOS-14.4-arm64-arm-64bit</td>\n",
       "      <td>3.10.12</td>\n",
       "      <td>2.3.4</td>\n",
       "      <td>10</td>\n",
       "      <td>Apple M1 Pro</td>\n",
       "      <td>NaN</td>\n",
       "      <td>NaN</td>\n",
       "      <td>12.0564</td>\n",
       "      <td>55.7123</td>\n",
       "      <td>16.000000</td>\n",
       "      <td>machine</td>\n",
       "      <td>N</td>\n",
       "      <td>1.0</td>\n",
       "    </tr>\n",
       "  </tbody>\n",
       "</table>\n",
       "</div>"
      ],
      "text/plain": [
       "             timestamp project_name                                run_id  \\\n",
       "0  2024-02-05T21:41:36   codecarbon  37ef3e50-1e90-4bae-a6cd-25a6dfe35872   \n",
       "1  2024-03-01T11:23:43   codecarbon  f45d1a95-3541-4200-8e8e-63c17cad077d   \n",
       "2  2024-03-01T11:31:21   codecarbon  a797f0cb-dc2b-41c0-82f6-522ae48cd31a   \n",
       "3  2024-03-04T10:12:43   codecarbon  afcb5316-9e17-4e2d-8a4b-713663795217   \n",
       "4  2024-03-08T14:24:45   codecarbon  2e8d0e65-c7c8-4764-90e6-7a0315ab4215   \n",
       "\n",
       "     duration  emissions  emissions_rate  cpu_power  gpu_power  ram_power  \\\n",
       "0    2.570896   0.000013    5.236615e-06       42.5  36.764062   5.977035   \n",
       "1    4.338811   0.000012    2.877786e-06       42.5   0.000000   4.334490   \n",
       "2  329.024675   0.000947    2.879003e-06       42.5   0.000000   4.334490   \n",
       "3    3.755695   0.000012    3.318624e-06       42.5   0.000000  11.538693   \n",
       "4    2.404702   0.000002    6.762714e-07        5.0   0.000000   6.000000   \n",
       "\n",
       "   cpu_energy  gpu_energy  ram_energy  energy_consumed country_name  \\\n",
       "0    0.000030    0.000026    0.000004         0.000061      Denmark   \n",
       "1    0.000051    0.000000    0.000005         0.000056      Denmark   \n",
       "2    0.003882    0.000000    0.000396         0.004278      Denmark   \n",
       "3    0.000044    0.000000    0.000012         0.000056      Denmark   \n",
       "4    0.000003    0.000000    0.000004         0.000007      Denmark   \n",
       "\n",
       "  country_iso_code          region  cloud_provider  cloud_region  \\\n",
       "0              DNK  capital region             NaN           NaN   \n",
       "1              DNK             NaN             NaN           NaN   \n",
       "2              DNK             NaN             NaN           NaN   \n",
       "3              DNK             NaN             NaN           NaN   \n",
       "4              DNK             NaN             NaN           NaN   \n",
       "\n",
       "                                             os python_version  \\\n",
       "0                     Windows-10-10.0.19045-SP0         3.11.7   \n",
       "1  Linux-6.5.0-21-generic-x86_64-with-glibc2.35        3.10.12   \n",
       "2  Linux-6.5.0-21-generic-x86_64-with-glibc2.35        3.10.12   \n",
       "3                     Windows-10-10.0.19045-SP0         3.12.1   \n",
       "4                    macOS-14.4-arm64-arm-64bit        3.10.12   \n",
       "\n",
       "  codecarbon_version  cpu_count                                   cpu_model  \\\n",
       "0              2.3.4          8    Intel(R) Core(TM) i7-4770K CPU @ 3.50GHz   \n",
       "1              2.3.4          4    Intel(R) Core(TM) i5-6200U CPU @ 2.30GHz   \n",
       "2              2.3.4          4    Intel(R) Core(TM) i5-6200U CPU @ 2.30GHz   \n",
       "3              2.3.4         16  AMD Ryzen 7 PRO 6850U with Radeon Graphics   \n",
       "4              2.3.4         10                                Apple M1 Pro   \n",
       "\n",
       "   gpu_count                    gpu_model  longitude  latitude  \\\n",
       "0        1.0  1 x NVIDIA GeForce GTX 1080    12.4809   55.6740   \n",
       "1        NaN                          NaN    12.0564   55.7123   \n",
       "2        NaN                          NaN    12.0564   55.7123   \n",
       "3        NaN                          NaN    12.0564   55.7123   \n",
       "4        NaN                          NaN    12.0564   55.7123   \n",
       "\n",
       "   ram_total_size tracking_mode on_cloud  pue  \n",
       "0       15.938759       machine        N  1.0  \n",
       "1       11.558640       machine        N  1.0  \n",
       "2       11.558640       machine        N  1.0  \n",
       "3       30.769848       machine        N  1.0  \n",
       "4       16.000000       machine        N  1.0  "
      ]
     },
     "execution_count": 14,
     "metadata": {},
     "output_type": "execute_result"
    }
   ],
   "source": [
    "#This code is a way to display all the column in one dataframe\n",
    "pd.set_option('display.max_columns', None) \n",
    "emissions_df"
   ]
  },
  {
   "cell_type": "markdown",
   "id": "60a458cb",
   "metadata": {},
   "source": [
    "N.B.: the data from your code is saved in the last row of the dataframe. \n",
    "The other rows represent previous measurements."
   ]
  },
  {
   "cell_type": "markdown",
   "id": "1b162b26",
   "metadata": {},
   "source": [
    "***\n",
    "***\n",
    "***"
   ]
  },
  {
   "cell_type": "markdown",
   "id": "8ef61d9f",
   "metadata": {},
   "source": [
    "## Your turn 🚀"
   ]
  },
  {
   "cell_type": "markdown",
   "id": "8d82cbf3",
   "metadata": {},
   "source": [
    "#### We encourage you to try the EmissionsTracker on models in your own project or on models from previous exercise sessions. Try out different classification models, with/without hyperparameter tuning, run your model on different computers, etc."
   ]
  },
  {
   "cell_type": "markdown",
   "id": "4788d569",
   "metadata": {},
   "source": [
    "Link to the Quickstart guide for CodeCarbon.io https://mlco2.github.io/codecarbon/usage.html"
   ]
  }
 ],
 "metadata": {
  "kernelspec": {
   "display_name": "Python 3 (ipykernel)",
   "language": "python",
   "name": "python3"
  },
  "language_info": {
   "codemirror_mode": {
    "name": "ipython",
    "version": 3
   },
   "file_extension": ".py",
   "mimetype": "text/x-python",
   "name": "python",
   "nbconvert_exporter": "python",
   "pygments_lexer": "ipython3",
   "version": "3.10.12"
  }
 },
 "nbformat": 4,
 "nbformat_minor": 5
}
