{
 "cells": [
  {
   "cell_type": "markdown",
   "metadata": {},
   "source": [
    "## 1. Setup \n",
    "\n",
    "### Import and Load the dataset"
   ]
  },
  {
   "cell_type": "code",
   "execution_count": null,
   "metadata": {},
   "outputs": [],
   "source": [
    "import numpy as np\n",
    "import matplotlib.pyplot as plt\n",
    "import pandas as pd\n",
    "import seaborn as sns\n",
    "\n",
    "from sklearn.preprocessing import LabelEncoder\n",
    "from sklearn.preprocessing import OneHotEncoder\n",
    "from numpy import asarray\n",
    "\n",
    "dementia_data = pd.read_csv(\"data/dementia_data_cleaned_v1.csv\", delimiter=\",\")"
   ]
  },
  {
   "cell_type": "markdown",
   "metadata": {},
   "source": [
    "## 4. Correlation matrix"
   ]
  },
  {
   "cell_type": "markdown",
   "metadata": {},
   "source": [
    "The correlation matrix makes a visualization of the pearson correlation between the viables in the dataset"
   ]
  },
  {
   "cell_type": "code",
   "execution_count": null,
   "metadata": {},
   "outputs": [],
   "source": [
    "corr = dementia_data. corr(method='pearson', numeric_only=True)\n",
    "corr"
   ]
  },
  {
   "cell_type": "code",
   "execution_count": null,
   "metadata": {},
   "outputs": [],
   "source": [
    "fig, ax = plt.subplots(figsize=(50,50))\n",
    "sns.set(font_scale=8.0)\n",
    "sns.heatmap(corr, xticklabels=corr.columns, yticklabels=corr.columns, cmap='RdBu_r', annot=True, linewidth=0.5, ax=ax, annot_kws={\"size\":42},)\n"
   ]
  },
  {
   "cell_type": "markdown",
   "metadata": {},
   "source": [
    "The Pearson Correlation Matrix, visualized as a heat map, shows the correlations between the features in the dataset. We did so to gather an understanding of which features in the dataset that might have the most impact on dementia_all, as this is the feature we want to be able to predict. "
   ]
  },
  {
   "cell_type": "markdown",
   "metadata": {},
   "source": [
    "The dataset is still consisting of nominal and categorical datatypes, hence to use the nominal data for modeling, we need to transform it to numerical data. "
   ]
  },
  {
   "cell_type": "markdown",
   "metadata": {},
   "source": [
    "## <font color=green> 3. Cleaning the dataset 2.0 </font> ##"
   ]
  },
  {
   "cell_type": "code",
   "execution_count": null,
   "metadata": {},
   "outputs": [],
   "source": [
    "dementia_data"
   ]
  },
  {
   "cell_type": "markdown",
   "metadata": {},
   "source": [
    "Our target feature is *dementia_all*. This feature is want we aim to predict with our model and given the correlation with the other features. *dementia_all* is a duplication of the feature *dementia*. However, *dementia* contains 34 missing values (NaN), whereas these values has been assigned with the value 1 in the feature *dementia_all*. \n",
    "\n",
    "\n",
    "with the argument of creating a model that rather predicts a false positive than a false negative <font color = yellow> (source????) </font>, *dementia_all* are chosen as the target feature, which is the same argument for creating the colum in the first place and assigning the missing values with the value 1, in stead of dropping the 34 rows containing missing values. \n",
    "\n",
    "In order to include the different feature in our correlation matrix later on, we transform the datatypes of the features containing objects as datatypes. "
   ]
  },
  {
   "cell_type": "code",
   "execution_count": null,
   "metadata": {},
   "outputs": [],
   "source": [
    "dementia_data.rename(columns={\"SVD Simple Score\": \"svd_simple_score\", \"SVD Amended Score\": \"svd_amended_score\"})"
   ]
  },
  {
   "cell_type": "markdown",
   "metadata": {},
   "source": [
    "By deciding on using *dementia_all* as the target feature, we are no longer in need of the *dementia*, hence this will be removed from the dataset. Furthermore, the two features *study* and *study1* is once again a duplikation of information of which study the information came from. The *study1* column does not include new information, hence its purpose in this study and development of a model to predict dementia, the feature is not relevant. \n",
    "\n",
    "<font color = yellow>   </font>"
   ]
  },
  {
   "cell_type": "code",
   "execution_count": null,
   "metadata": {},
   "outputs": [],
   "source": [
    "dementia_data.drop(\"dementia\", axis=1, inplace=True)"
   ]
  },
  {
   "cell_type": "code",
   "execution_count": null,
   "metadata": {},
   "outputs": [],
   "source": [
    "dementia_data.drop(\"study1\", axis=1, inplace=True)\n",
    "dementia_data.drop(\"ID\", axis=1, inplace=True)\n",
    "dementia_data.drop(\"study\", axis=1, inplace=True)"
   ]
  },
  {
   "cell_type": "code",
   "execution_count": null,
   "metadata": {},
   "outputs": [],
   "source": [
    "dementia_data"
   ]
  },
  {
   "cell_type": "code",
   "execution_count": null,
   "metadata": {},
   "outputs": [],
   "source": [
    "dementia_data['lac_count'].unique()"
   ]
  },
  {
   "cell_type": "code",
   "execution_count": null,
   "metadata": {},
   "outputs": [],
   "source": [
    "\n",
    "dementia_data['fazekas_cat'].unique()"
   ]
  },
  {
   "cell_type": "code",
   "execution_count": null,
   "metadata": {},
   "outputs": [],
   "source": [
    "dementia_data['lacunes_num'].unique()"
   ]
  },
  {
   "cell_type": "code",
   "execution_count": null,
   "metadata": {},
   "outputs": [],
   "source": [
    "dementia_data['SVD Simple Score'].unique()"
   ]
  },
  {
   "cell_type": "code",
   "execution_count": null,
   "metadata": {},
   "outputs": [],
   "source": [
    "dementia_data['SVD Amended Score'].unique()"
   ]
  },
  {
   "cell_type": "markdown",
   "metadata": {},
   "source": [
    "As we found out earlier on, a magnificicant amount of rows (677) contains missing values (NaN) within the feature *'SVD simple score'* and *'SVD Amended Score'*. As these features indicates the results of patient's MRI scan. Hence, it is assumed that the patient's whose rows include NaN values within theses features, have not been scanned, which serves as an argument of filling these missing values with the value of 0. Taken the assumption, that patients will not require a MRI scan unless they are showing symptoms, into account. "
   ]
  },
  {
   "cell_type": "code",
   "execution_count": null,
   "metadata": {},
   "outputs": [],
   "source": [
    "dementia_data['SVD Simple Score'].fillna(dementia_data['SVD Simple Score'].mode()[0], inplace = True)\n",
    "dementia_data['SVD Amended Score'].fillna(dementia_data['SVD Amended Score'].mode()[0], inplace = True)"
   ]
  },
  {
   "cell_type": "markdown",
   "metadata": {},
   "source": [
    "Checking that the code worked, there are no more NaN values included in the feature."
   ]
  },
  {
   "cell_type": "code",
   "execution_count": null,
   "metadata": {},
   "outputs": [],
   "source": [
    "dementia_data['SVD Simple Score'].unique()"
   ]
  },
  {
   "cell_type": "markdown",
   "metadata": {},
   "source": [
    "Arguing that the ones with a missing value within the smoking feature, we assume that they are never-smokers (0)"
   ]
  },
  {
   "cell_type": "code",
   "execution_count": null,
   "metadata": {},
   "outputs": [],
   "source": [
    "dementia_data['smoking'].fillna(0, inplace = True)\n",
    "dementia_data.smoking.unique()"
   ]
  },
  {
   "cell_type": "markdown",
   "metadata": {},
   "source": [
    "As well within the features *EF*, *PS* and *Global* there is a noticeable amount of missing values (respectively 208, 268, and 308). The same argument as above-mentioned does not apply to these features as EF (Executive function), PS (Processing Speed), and Global (Global Cognitive Score) are not 0 as the patients would then have no EF, PS, and Global. In stead we replace the NaN values in these three features with the mean of the values included in the respective features."
   ]
  },
  {
   "cell_type": "code",
   "execution_count": null,
   "metadata": {},
   "outputs": [],
   "source": [
    "dementia_data['EF'].fillna(dementia_data['EF'].mean(), inplace = True)\n",
    "dementia_data['PS'].fillna(dementia_data['PS'].mean(), inplace = True)\n",
    "dementia_data['Global'].fillna(dementia_data['Global'].mean(), inplace = True)"
   ]
  },
  {
   "cell_type": "markdown",
   "metadata": {},
   "source": [
    "Checking whether we managed to exclude missing values. "
   ]
  },
  {
   "cell_type": "code",
   "execution_count": null,
   "metadata": {},
   "outputs": [],
   "source": [
    "dementia_data.isna().sum()"
   ]
  },
  {
   "cell_type": "code",
   "execution_count": null,
   "metadata": {},
   "outputs": [],
   "source": [
    "dementia_data['lac_count'].unique()"
   ]
  },
  {
   "cell_type": "code",
   "execution_count": null,
   "metadata": {},
   "outputs": [],
   "source": [
    "dementia_data['CMB_count'].unique()"
   ]
  },
  {
   "cell_type": "code",
   "execution_count": null,
   "metadata": {},
   "outputs": [],
   "source": [
    "dementia_data['lacunes_num'].unique()"
   ]
  },
  {
   "cell_type": "markdown",
   "metadata": {},
   "source": [
    "Replacing the columns with numerical values."
   ]
  },
  {
   "cell_type": "code",
   "execution_count": null,
   "metadata": {},
   "outputs": [],
   "source": [
    "dementia_data.replace({\"lacunes_num\": {\"zero\": 0, \"more-than-zero\": 1}}, inplace=True)\n",
    "dementia_data.replace({\"fazekas_cat\": {\"0 to 1\": 0, \"2 to 3\": 1}}, inplace=True)\n",
    "dementia_data.replace({\"lac_count\": {\"Zero\": 0, \"1 to 2\": 1, \"3 to 5\": 3, \">5\": 5}},inplace=True)\n",
    "dementia_data.replace({\"CMB_count\": {\"0\": 0, \">=1\": 1}}, inplace=True)\n",
    "dementia_data.replace({\"gender\":{\"female\" : 0, \"male\" : 1}}, inplace=True)"
   ]
  },
  {
   "cell_type": "code",
   "execution_count": null,
   "metadata": {},
   "outputs": [],
   "source": [
    "dementia_data['lacunes_num'].unique()"
   ]
  },
  {
   "cell_type": "code",
   "execution_count": null,
   "metadata": {},
   "outputs": [],
   "source": [
    "dementia_data"
   ]
  },
  {
   "cell_type": "code",
   "execution_count": null,
   "metadata": {},
   "outputs": [],
   "source": [
    "dementia_data.dtypes"
   ]
  },
  {
   "cell_type": "markdown",
   "metadata": {},
   "source": [
    "## <font color=green> 4. Visualization 2.0 </font> ##"
   ]
  },
  {
   "cell_type": "code",
   "execution_count": null,
   "metadata": {},
   "outputs": [],
   "source": [
    "corr = dementia_data. corr(method='pearson', numeric_only=True)\n",
    "corr"
   ]
  },
  {
   "cell_type": "code",
   "execution_count": null,
   "metadata": {},
   "outputs": [],
   "source": [
    "fig, ax = plt.subplots(figsize=(50,50))\n",
    "sns.set(font_scale=8.0)\n",
    "sns.heatmap(corr, xticklabels=corr.columns, yticklabels=corr.columns, cmap='RdBu_r', annot=True, linewidth=0.5, ax=ax, annot_kws={\"size\":42},)"
   ]
  },
  {
   "cell_type": "markdown",
   "metadata": {},
   "source": [
    "Redoing the heatmap once the data has been cleaned shows an even lesser correlation with our target feature *dementia_all*"
   ]
  },
  {
   "cell_type": "code",
   "execution_count": null,
   "metadata": {},
   "outputs": [],
   "source": [
    "dementia_data"
   ]
  },
  {
   "cell_type": "code",
   "execution_count": null,
   "metadata": {},
   "outputs": [],
   "source": [
    "sns.set(font_scale=1.0)\n",
    "dementia_data['dementia_all'].value_counts().plot(kind='pie', explode=[0,0.1], autopct='%1.1f%%', shadow=True)\n",
    "plt.legend(dementia_data[\"dementia_all\"].value_counts().index)\n",
    "plt.show()"
   ]
  },
  {
   "cell_type": "markdown",
   "metadata": {},
   "source": [
    "Only 6.3% of the participants in the dataset have been diagnosed with dementia. When looking in to how the dataset is divided on gender, it is almost 50/50 with "
   ]
  },
  {
   "cell_type": "code",
   "execution_count": null,
   "metadata": {},
   "outputs": [],
   "source": [
    "ax = dementia_data['gender'].value_counts().sort_index().plot(kind='pie',rot=0, ylabel='Distribution in %',labels=['Women','Men'], \n",
    "                                                                   shadow=True, autopct='%1.1f%%',textprops={'horizontalalignment': 'center'})\n",
    "plt.savefig(\"img/pie_chart_gender\")"
   ]
  },
  {
   "cell_type": "code",
   "execution_count": null,
   "metadata": {},
   "outputs": [],
   "source": [
    "# plots \n",
    "distribution_features = [\"age\", \"educationyears\", \"smoking\"]\n",
    "boxplot_feature = [\"smoking\", \"educationyears\"]\n",
    "bar_feature = [\"smoking\"]\n",
    "img_folder = \"img/\"\n",
    "\n",
    "\n",
    "\n",
    "for feature in distribution_features: \n",
    "    sns.kdeplot(dementia_data, x=feature, hue=\"dementia_all\")\n",
    "    plt.title(\"Distribution for \" + feature)\n",
    "    plt.savefig(img_folder + \"dis_\" + feature)\n",
    "    plt.show()\n",
    "\n",
    "for feature in boxplot_feature:\n",
    "    sns.boxplot(dementia_data, x=\"dementia_all\", y=feature)\n",
    "    plt.title(\"Boxplot for \" + feature)\n",
    "    plt.savefig(img_folder + \"box_\" + feature)\n",
    "    plt.show()\n",
    "\n",
    "\n",
    "for feature in bar_feature: \n",
    "\n",
    "    grouped_data = dementia_data.groupby(['smoking', 'dementia_all']).size().reset_index(name='count')\n",
    "\n",
    "    # Pivot the data to prepare for plotting\n",
    "    pivot_data = grouped_data.pivot(index='smoking', columns='dementia_all', values='count').fillna(0)\n",
    "    pivot_data = pivot_data.reindex(columns=[1, 0])\n",
    "\n",
    "    # Create the stacked bar plot\n",
    "    ax = pivot_data.plot(kind='bar', stacked=True, width=0.75)\n",
    "    for p in ax.patches:\n",
    "        if p.get_height() < 100: \n",
    "            text= str(int(p.get_height())) # avoid duplicate labeling on the bars\n",
    "        ax.annotate(text, (p.get_x() + p.get_width() / 2., p.get_height()), ha='center', va='center', xytext=(0, 6), textcoords='offset points')\n",
    "        text = None\n",
    "    totals = pivot_data.sum(axis=1)\n",
    "    for i, total in enumerate(totals):\n",
    "\n",
    "        ax.text(i, total + 6, str(int(total)), ha='center', va='bottom')\n",
    "    plt.xticks(range(len(pivot_data.index)), pivot_data.index.astype(int))\n",
    "    plt.xlabel(\"Smoking\")\n",
    "    plt.ylabel(\"Sum\")\n",
    "    plt.legend(title='Dementia', loc='upper right')\n",
    "    plt.tight_layout()\n",
    "    plt.xticks(rotation=0)\n",
    "    plt.savefig(img_folder + \"bar_\" + feature)\n",
    "    plt.show()"
   ]
  },
  {
   "cell_type": "code",
   "execution_count": null,
   "metadata": {},
   "outputs": [],
   "source": [
    "dementia_data.drop('dementia_all', axis=1).corrwith(dementia_data.dementia_all).sort_values().plot(kind='barh',figsize=(10,10))\n",
    "dementia_data"
   ]
  },
  {
   "cell_type": "markdown",
   "metadata": {},
   "source": [
    "We are selecting 13 feature to do model traning, chosen on their absolete values"
   ]
  },
  {
   "cell_type": "code",
   "execution_count": null,
   "metadata": {},
   "outputs": [],
   "source": [
    "NUMBER_OF_FEATURES = 13\n",
    "corr = dementia_data.drop('dementia_all', axis=1).corrwith(dementia_data.dementia_all).abs().sort_values(ascending=False)\n",
    "n_features = corr.head(NUMBER_OF_FEATURES)\n",
    "type(n_features)\n"
   ]
  },
  {
   "cell_type": "code",
   "execution_count": null,
   "metadata": {},
   "outputs": [],
   "source": [
    "model_features = n_features.index.to_numpy()\n",
    "model_features"
   ]
  },
  {
   "cell_type": "markdown",
   "metadata": {},
   "source": [
    "Save the dataframe to csv to be used in a clean notebook for model training"
   ]
  },
  {
   "cell_type": "code",
   "execution_count": null,
   "metadata": {},
   "outputs": [],
   "source": [
    "dementia_data.to_csv('data/dementia_data_cleaned_v2.csv', sep=',', index=False)"
   ]
  }
 ],
 "metadata": {
  "kernelspec": {
   "display_name": "Python 3",
   "language": "python",
   "name": "python3"
  },
  "language_info": {
   "codemirror_mode": {
    "name": "ipython",
    "version": 3
   },
   "file_extension": ".py",
   "mimetype": "text/x-python",
   "name": "python",
   "nbconvert_exporter": "python",
   "pygments_lexer": "ipython3",
   "version": "3.10.2"
  }
 },
 "nbformat": 4,
 "nbformat_minor": 2
}
